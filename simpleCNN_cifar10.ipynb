{
  "nbformat": 4,
  "nbformat_minor": 0,
  "metadata": {
    "colab": {
      "provenance": [],
      "toc_visible": true,
      "gpuType": "V100",
      "authorship_tag": "ABX9TyMK2R5G8hEyrBwsbzpmHChN",
      "include_colab_link": true
    },
    "kernelspec": {
      "name": "python3",
      "display_name": "Python 3"
    },
    "language_info": {
      "name": "python"
    },
    "accelerator": "GPU"
  },
  "cells": [
    {
      "cell_type": "markdown",
      "metadata": {
        "id": "view-in-github",
        "colab_type": "text"
      },
      "source": [
        "<a href=\"https://colab.research.google.com/github/nam-ngh/notebooks/blob/main/simpleCNN_cifar10.ipynb\" target=\"_parent\"><img src=\"https://colab.research.google.com/assets/colab-badge.svg\" alt=\"Open In Colab\"/></a>"
      ]
    },
    {
      "cell_type": "markdown",
      "source": [
        "# Example of building a simple CNN model using modularCNN library"
      ],
      "metadata": {
        "id": "dzjCxS-sVe-c"
      }
    },
    {
      "cell_type": "code",
      "execution_count": 1,
      "metadata": {
        "id": "UrVhPRxL4OcX"
      },
      "outputs": [],
      "source": [
        "# standard imports:\n",
        "import numpy as np\n",
        "import matplotlib.pyplot as plt"
      ]
    },
    {
      "cell_type": "code",
      "source": [
        "# importing our very own neural network library:\n",
        "!git clone https://github.com/nam-ngh/modularCNN.git"
      ],
      "metadata": {
        "id": "aZSTmTzH7Kz2",
        "outputId": "2640d211-23e6-4930-eef1-3402a482e041",
        "colab": {
          "base_uri": "https://localhost:8080/"
        }
      },
      "execution_count": 2,
      "outputs": [
        {
          "output_type": "stream",
          "name": "stdout",
          "text": [
            "Cloning into 'modularCNN'...\n",
            "remote: Enumerating objects: 158, done.\u001b[K\n",
            "remote: Counting objects: 100% (113/113), done.\u001b[K\n",
            "remote: Compressing objects: 100% (92/92), done.\u001b[K\n",
            "remote: Total 158 (delta 37), reused 69 (delta 20), pack-reused 45\u001b[K\n",
            "Receiving objects: 100% (158/158), 162.44 MiB | 17.71 MiB/s, done.\n",
            "Resolving deltas: 100% (54/54), done.\n",
            "Updating files: 100% (12/12), done.\n"
          ]
        }
      ]
    },
    {
      "cell_type": "code",
      "source": [
        "from modularCNN.lib import layer, network"
      ],
      "metadata": {
        "id": "sce-rdgo9AdY"
      },
      "execution_count": 3,
      "outputs": []
    },
    {
      "cell_type": "markdown",
      "metadata": {
        "id": "QUXm8EZE4Ocb"
      },
      "source": [
        "#### 1. Unpacking cifar-10:"
      ]
    },
    {
      "cell_type": "code",
      "execution_count": 4,
      "metadata": {
        "id": "NgA5UTo14Oce"
      },
      "outputs": [],
      "source": [
        "def unpickle(file):\n",
        "    import pickle\n",
        "    with open(file, 'rb') as fo:\n",
        "        dict = pickle.load(fo, encoding='bytes')\n",
        "    return dict"
      ]
    },
    {
      "cell_type": "code",
      "execution_count": 5,
      "metadata": {
        "id": "SfrpdDwZ4Och"
      },
      "outputs": [],
      "source": [
        "#List of train data files:\n",
        "data_batches = ['modularCNN/cifar10/data_batch_1','modularCNN/cifar10/data_batch_2','modularCNN/cifar10/data_batch_3','modularCNN/cifar10/data_batch_4','modularCNN/cifar10/data_batch_5',]\n",
        "#Unpickling every batch in the list:\n",
        "train_data_dicts = [unpickle(batch) for batch in data_batches]\n",
        "#Unpickling test data file:\n",
        "test_data_dict = unpickle('modularCNN/cifar10/test_batch')\n",
        "#Unpickling label names file:\n",
        "label_names_dicts = unpickle('modularCNN/cifar10/batches.meta')\n",
        "label_names = [str(label, 'utf-8') for label in label_names_dicts[b'label_names']]"
      ]
    },
    {
      "cell_type": "code",
      "execution_count": 6,
      "metadata": {
        "id": "olLVzArC4Ock",
        "outputId": "19e48f12-efdd-4c95-d221-51283f8b4253",
        "colab": {
          "base_uri": "https://localhost:8080/"
        }
      },
      "outputs": [
        {
          "output_type": "stream",
          "name": "stdout",
          "text": [
            "(50000, 32, 32, 3) (50000,) (10000, 32, 32, 3) (10000,)\n"
          ]
        }
      ],
      "source": [
        "#Group batches and define train data:\n",
        "x_train = np.empty(shape=(0,3072),dtype=np.uint8)\n",
        "y_train = []\n",
        "for dict in train_data_dicts:\n",
        "    x_train = np.append(x_train, dict[b'data'], axis = 0)\n",
        "    y_train += dict[b'labels']\n",
        "y_train = np.asarray(y_train)\n",
        "\n",
        "#Define test data:\n",
        "x_test = np.array(test_data_dict[b'data'])\n",
        "y_test = np.array(test_data_dict[b'labels'])\n",
        "\n",
        "#Convert x to image format:\n",
        "x_train = x_train.reshape(50000,3,32,32).transpose(0,2,3,1)\n",
        "x_test = x_test.reshape(10000,3,32,32).transpose(0,2,3,1)\n",
        "\n",
        "print(x_train.shape, y_train.shape, x_test.shape, y_test.shape)"
      ]
    },
    {
      "cell_type": "markdown",
      "metadata": {
        "id": "jZ81Dgds4Ocm"
      },
      "source": [
        "We now have the train and test data. Let's try plotting some of the images"
      ]
    },
    {
      "cell_type": "code",
      "execution_count": 7,
      "metadata": {
        "id": "JJULwqGX4Ocn"
      },
      "outputs": [],
      "source": [
        "#function to plot 6 random images from the dataset:\n",
        "def plot_6(x=x_test,y=y_test,y_hat=None):\n",
        "    fig, ax = plt.subplots(2,3)\n",
        "    i_list = np.random.randint(low=0, high=10000, size = 6) #generate list of random indices\n",
        "    i=0\n",
        "    for row in ax:\n",
        "        for col in row:\n",
        "            col.axis('off')\n",
        "            #get image:\n",
        "            img = x[i_list[i]]\n",
        "            col.imshow(img)\n",
        "            #get label:\n",
        "            label_no = y[i_list[i]]\n",
        "            label = label_names[label_no]\n",
        "    \n",
        "            if type(y_hat)==type(y_test): #print predictions if they have been made\n",
        "                predicted_label_no = y_hat[i_list[i]]\n",
        "                predicted_label = label_names[predicted_label_no]\n",
        "                col.set_title(f'Index: {i_list[i]}\\nLabel: {label}\\nPredicted: {predicted_label}',\n",
        "                              loc='left', fontdict={'fontsize': 8})\n",
        "                fig.suptitle('Example Predictions')\n",
        "            else: \n",
        "                col.set_title(f'Index: {i_list[i]}\\nLabel: {label}',\n",
        "                              loc='left', fontdict={'fontsize': 8})\n",
        "                fig.suptitle('Example Images')\n",
        "            \n",
        "            #update to the next generated index\n",
        "            i+=1\n",
        "    plt.show()"
      ]
    },
    {
      "cell_type": "code",
      "execution_count": 8,
      "metadata": {
        "id": "1pq_UTp04Ocq",
        "outputId": "676bba55-fea6-4588-eeb6-39d4653d7d41",
        "colab": {
          "base_uri": "https://localhost:8080/",
          "height": 443
        }
      },
      "outputs": [
        {
          "output_type": "display_data",
          "data": {
            "text/plain": [
              "<Figure size 640x480 with 6 Axes>"
            ],
            "image/png": "[encoded data removed]"
          },
          "metadata": {}
        }
      ],
      "source": [
        "plot_6()"
      ]
    },
    {
      "cell_type": "code",
      "source": [
        "# the images look good, now we process the data for training:\n",
        "\n",
        "# preprocess input features with min max scaling:\n",
        "x_train_scaled = x_train / 255\n",
        "x_test_scaled = x_test / 255\n",
        "\n",
        "# random parallel shuffle train data for random validation:\n",
        "p = np.random.permutation(x_train.shape[0])\n",
        "rand_x_tr = x_train_scaled[p]\n",
        "rand_y_tr = y_train[p]"
      ],
      "metadata": {
        "id": "RJZylpk-Ub0R"
      },
      "execution_count": null,
      "outputs": []
    },
    {
      "cell_type": "markdown",
      "source": [
        "#### 2. Building and training a simple CNN model:"
      ],
      "metadata": {
        "id": "1AWhN-IIQsi_"
      }
    },
    {
      "cell_type": "code",
      "source": [
        "# define the model:\n",
        "cnn = network.Net()\n",
        "# get the model structure overview (at the moment empty):\n",
        "cnn.summary()"
      ],
      "metadata": {
        "colab": {
          "base_uri": "https://localhost:8080/"
        },
        "id": "6EfSG7ZqQjzo",
        "outputId": "64c0f36a-969e-4efd-e8ad-718b9ad2c38d"
      },
      "execution_count": null,
      "outputs": [
        {
          "output_type": "stream",
          "name": "stdout",
          "text": [
            "╒══════════════╤═══════════════╤═════════════════╤════════════════════╕\n",
            "│ LAYER NAME   │ INPUT SHAPE   │ OUTPUT SHAPE    │   TRAINABLE PARAMS │\n",
            "╞══════════════╪═══════════════╪═════════════════╪════════════════════╡\n",
            "│ TOTAL        │               │                 │                  0 │\n",
            "╘══════════════╧═══════════════╧═════════════════╧════════════════════╛\n"
          ]
        }
      ]
    },
    {
      "cell_type": "code",
      "source": [
        "cnn.add(layer.Convolutional(input_shape=(32,32,3),filters=16,filter_size=3,stride=1,pad=1))\n",
        "cnn.add(layer.Activation('leakyrelu'))\n",
        "cnn.add(layer.MaxPooling(input_shape=(32,32,16)))\n",
        "\n",
        "cnn.add(layer.Convolutional(input_shape=(16,16,16),filters=16,filter_size=3,stride=1,pad=1))\n",
        "cnn.add(layer.Activation('leakyrelu'))\n",
        "cnn.add(layer.MaxPooling(input_shape=(16,16,16)))\n",
        "\n",
        "cnn.add(layer.Convolutional(input_shape=(8,8,16),filters=32,filter_size=3,stride=1,pad=1))\n",
        "cnn.add(layer.Activation('leakyrelu'))\n",
        "cnn.add(layer.MaxPooling(input_shape=(8,8,32)))\n",
        "\n",
        "cnn.add(layer.Flatten(input_shape=(4,4,32)))\n",
        "cnn.add(layer.Dense(units_in=512,units_out=10,initial_Wvar=2/512))\n",
        "cnn.add(layer.Activation('softmax'))"
      ],
      "metadata": {
        "id": "EYiWzw5Ukngs"
      },
      "execution_count": null,
      "outputs": []
    },
    {
      "cell_type": "code",
      "source": [
        "cnn.summary()"
      ],
      "metadata": {
        "colab": {
          "base_uri": "https://localhost:8080/"
        },
        "id": "Xuvk5QWXmEMy",
        "outputId": "b06e9a13-e933-4cc5-876e-ab1c233ddc05"
      },
      "execution_count": null,
      "outputs": [
        {
          "output_type": "stream",
          "name": "stdout",
          "text": [
            "╒═══════════════════════╤═══════════════╤═════════════════╤════════════════════╕\n",
            "│ LAYER NAME            │ INPUT SHAPE   │ OUTPUT SHAPE    │   TRAINABLE PARAMS │\n",
            "╞═══════════════════════╪═══════════════╪═════════════════╪════════════════════╡\n",
            "│ Convolutional         │ (32, 32, 3)   │ (32, 32, 16)    │                432 │\n",
            "├───────────────────────┼───────────────┼─────────────────┼────────────────────┤\n",
            "│ Activation: leakyrelu │ _             │ _               │                  0 │\n",
            "├───────────────────────┼───────────────┼─────────────────┼────────────────────┤\n",
            "│ MaxPooling            │ (32, 32, 16)  │ (16, 16, 16)    │                  0 │\n",
            "├───────────────────────┼───────────────┼─────────────────┼────────────────────┤\n",
            "│ Convolutional         │ (16, 16, 16)  │ (16, 16, 16)    │               2304 │\n",
            "├───────────────────────┼───────────────┼─────────────────┼────────────────────┤\n",
            "│ Activation: leakyrelu │ _             │ _               │                  0 │\n",
            "├───────────────────────┼───────────────┼─────────────────┼────────────────────┤\n",
            "│ MaxPooling            │ (16, 16, 16)  │ (8, 8, 16)      │                  0 │\n",
            "├───────────────────────┼───────────────┼─────────────────┼────────────────────┤\n",
            "│ Convolutional         │ (8, 8, 16)    │ (8, 8, 32)      │               4608 │\n",
            "├───────────────────────┼───────────────┼─────────────────┼────────────────────┤\n",
            "│ Activation: leakyrelu │ _             │ _               │                  0 │\n",
            "├───────────────────────┼───────────────┼─────────────────┼────────────────────┤\n",
            "│ MaxPooling            │ (8, 8, 32)    │ (4, 4, 32)      │                  0 │\n",
            "├───────────────────────┼───────────────┼─────────────────┼────────────────────┤\n",
            "│ Flatten               │ (4, 4, 32)    │ (512, 1)        │                  0 │\n",
            "├───────────────────────┼───────────────┼─────────────────┼────────────────────┤\n",
            "│ Dense                 │ (512, 1)      │ (10, 1)         │               5130 │\n",
            "├───────────────────────┼───────────────┼─────────────────┼────────────────────┤\n",
            "│ Activation: softmax   │ _             │ _               │                  0 │\n",
            "├───────────────────────┼───────────────┼─────────────────┼────────────────────┤\n",
            "│ TOTAL                 │               │                 │              12474 │\n",
            "╘═══════════════════════╧═══════════════╧═════════════════╧════════════════════╛\n"
          ]
        }
      ]
    },
    {
      "cell_type": "code",
      "source": [
        "cnn.train(rand_x_tr, rand_y_tr, epochs=100, learn_rate=0.001, val_size=0.1)"
      ],
      "metadata": {
        "colab": {
          "base_uri": "https://localhost:8080/",
          "height": 1000
        },
        "id": "d4J6eHzwlm2A",
        "outputId": "194cd277-433e-49b9-adf9-12573054ab52"
      },
      "execution_count": null,
      "outputs": [
        {
          "output_type": "stream",
          "name": "stderr",
          "text": [
            "100%|████████████████████████████████████████████████████████| 45000/45000 [02:51<00:00, 262.59it/s]\n"
          ]
        },
        {
          "output_type": "stream",
          "name": "stdout",
          "text": [
            "Validating ...\rEpoch: 0, train_loss: 2.29521646, train_acc.: 10.84444%, val_loss: 2.20474992, val_acc.: 15.12%\n"
          ]
        },
        {
          "output_type": "stream",
          "name": "stderr",
          "text": [
            "100%|████████████████████████████████████████████████████████| 45000/45000 [02:52<00:00, 261.16it/s]\n"
          ]
        },
        {
          "output_type": "stream",
          "name": "stdout",
          "text": [
            "Validating ...\rEpoch: 1, train_loss: 1.93612236, train_acc.: 30.53556%, val_loss: 1.82892405, val_acc.: 34.38%\n"
          ]
        },
        {
          "output_type": "stream",
          "name": "stderr",
          "text": [
            "100%|████████████████████████████████████████████████████████| 45000/45000 [02:54<00:00, 257.71it/s]\n"
          ]
        },
        {
          "output_type": "stream",
          "name": "stdout",
          "text": [
            "Validating ...\rEpoch: 2, train_loss: 1.66656783, train_acc.: 40.90889%, val_loss: 1.64725735, val_acc.: 41.18%\n"
          ]
        },
        {
          "output_type": "stream",
          "name": "stderr",
          "text": [
            "100%|████████████████████████████████████████████████████████| 45000/45000 [02:53<00:00, 258.63it/s]\n"
          ]
        },
        {
          "output_type": "stream",
          "name": "stdout",
          "text": [
            "Validating ...\rEpoch: 3, train_loss: 1.53759728, train_acc.: 45.39111%, val_loss: 1.4928396, val_acc.: 47.22%\n"
          ]
        },
        {
          "output_type": "stream",
          "name": "stderr",
          "text": [
            "100%|████████████████████████████████████████████████████████| 45000/45000 [02:54<00:00, 257.61it/s]\n"
          ]
        },
        {
          "output_type": "stream",
          "name": "stdout",
          "text": [
            "Validating ...\rEpoch: 4, train_loss: 1.4380398, train_acc.: 48.76444%, val_loss: 1.39702244, val_acc.: 50.64%\n"
          ]
        },
        {
          "output_type": "stream",
          "name": "stderr",
          "text": [
            "100%|████████████████████████████████████████████████████████| 45000/45000 [02:55<00:00, 256.31it/s]\n"
          ]
        },
        {
          "output_type": "stream",
          "name": "stdout",
          "text": [
            "Validating ...\rEpoch: 5, train_loss: 1.35900976, train_acc.: 51.81111%, val_loss: 1.33097006, val_acc.: 53.02%\n"
          ]
        },
        {
          "output_type": "stream",
          "name": "stderr",
          "text": [
            "100%|████████████████████████████████████████████████████████| 45000/45000 [02:52<00:00, 261.36it/s]\n"
          ]
        },
        {
          "output_type": "stream",
          "name": "stdout",
          "text": [
            "Validating ...\rEpoch: 6, train_loss: 1.29079976, train_acc.: 54.25333%, val_loss: 1.27252851, val_acc.: 54.48%\n"
          ]
        },
        {
          "output_type": "stream",
          "name": "stderr",
          "text": [
            "100%|████████████████████████████████████████████████████████| 45000/45000 [02:50<00:00, 263.89it/s]\n"
          ]
        },
        {
          "output_type": "stream",
          "name": "stdout",
          "text": [
            "Validating ...\rEpoch: 7, train_loss: 1.22854862, train_acc.: 56.50667%, val_loss: 1.21862668, val_acc.: 56.22%\n"
          ]
        },
        {
          "output_type": "stream",
          "name": "stderr",
          "text": [
            "100%|████████████████████████████████████████████████████████| 45000/45000 [02:49<00:00, 264.80it/s]\n"
          ]
        },
        {
          "output_type": "stream",
          "name": "stdout",
          "text": [
            "Validating ...\rEpoch: 8, train_loss: 1.16616084, train_acc.: 58.96222%, val_loss: 1.1613076, val_acc.: 58.52%\n"
          ]
        },
        {
          "output_type": "stream",
          "name": "stderr",
          "text": [
            "100%|████████████████████████████████████████████████████████| 45000/45000 [02:50<00:00, 263.71it/s]\n"
          ]
        },
        {
          "output_type": "stream",
          "name": "stdout",
          "text": [
            "Validating ...\rEpoch: 9, train_loss: 1.10559489, train_acc.: 61.22889%, val_loss: 1.10917433, val_acc.: 60.5%\n"
          ]
        },
        {
          "output_type": "stream",
          "name": "stderr",
          "text": [
            "100%|████████████████████████████████████████████████████████| 45000/45000 [02:51<00:00, 262.06it/s]\n"
          ]
        },
        {
          "output_type": "stream",
          "name": "stdout",
          "text": [
            "Validating ...\rEpoch: 10, train_loss: 1.05965446, train_acc.: 62.92667%, val_loss: 1.07279076, val_acc.: 62.2%\n"
          ]
        },
        {
          "output_type": "stream",
          "name": "stderr",
          "text": [
            "100%|████████████████████████████████████████████████████████| 45000/45000 [02:51<00:00, 262.06it/s]\n"
          ]
        },
        {
          "output_type": "stream",
          "name": "stdout",
          "text": [
            "Validating ...\rEpoch: 11, train_loss: 1.02360856, train_acc.: 64.32889%, val_loss: 1.05609171, val_acc.: 63.12%\n"
          ]
        },
        {
          "output_type": "stream",
          "name": "stderr",
          "text": [
            "100%|████████████████████████████████████████████████████████| 45000/45000 [03:14<00:00, 230.79it/s]\n"
          ]
        },
        {
          "output_type": "stream",
          "name": "stdout",
          "text": [
            "Validating ...\rEpoch: 12, train_loss: 0.99411685, train_acc.: 65.38444%, val_loss: 1.04384742, val_acc.: 63.9%\n"
          ]
        },
        {
          "output_type": "stream",
          "name": "stderr",
          "text": [
            "100%|████████████████████████████████████████████████████████| 45000/45000 [03:19<00:00, 225.23it/s]\n"
          ]
        },
        {
          "output_type": "stream",
          "name": "stdout",
          "text": [
            "Validating ...\rEpoch: 13, train_loss: 0.96879107, train_acc.: 66.45556%, val_loss: 1.02087188, val_acc.: 64.78%\n"
          ]
        },
        {
          "output_type": "stream",
          "name": "stderr",
          "text": [
            "100%|████████████████████████████████████████████████████████| 45000/45000 [03:19<00:00, 225.38it/s]\n"
          ]
        },
        {
          "output_type": "stream",
          "name": "stdout",
          "text": [
            "Validating ...\rEpoch: 14, train_loss: 0.94705413, train_acc.: 67.12222%, val_loss: 1.01882162, val_acc.: 64.62%\n"
          ]
        },
        {
          "output_type": "stream",
          "name": "stderr",
          "text": [
            "100%|████████████████████████████████████████████████████████| 45000/45000 [03:19<00:00, 225.10it/s]\n"
          ]
        },
        {
          "output_type": "stream",
          "name": "stdout",
          "text": [
            "Validating ...\rEpoch: 15, train_loss: 0.9284202, train_acc.: 67.62667%, val_loss: 1.00982482, val_acc.: 64.92%\n"
          ]
        },
        {
          "output_type": "stream",
          "name": "stderr",
          "text": [
            "100%|████████████████████████████████████████████████████████| 45000/45000 [03:20<00:00, 224.60it/s]\n"
          ]
        },
        {
          "output_type": "stream",
          "name": "stdout",
          "text": [
            "Validating ...\rEpoch: 16, train_loss: 0.91068967, train_acc.: 68.26889%, val_loss: 1.01123667, val_acc.: 65.0%\n"
          ]
        },
        {
          "output_type": "stream",
          "name": "stderr",
          "text": [
            "100%|████████████████████████████████████████████████████████| 45000/45000 [03:20<00:00, 224.15it/s]\n"
          ]
        },
        {
          "output_type": "stream",
          "name": "stdout",
          "text": [
            "Validating ...\rEpoch: 17, train_loss: 0.89548532, train_acc.: 68.78%, val_loss: 1.01358943, val_acc.: 65.36%\n"
          ]
        },
        {
          "output_type": "stream",
          "name": "stderr",
          "text": [
            "100%|████████████████████████████████████████████████████████| 45000/45000 [03:21<00:00, 223.36it/s]\n"
          ]
        },
        {
          "output_type": "stream",
          "name": "stdout",
          "text": [
            "Validating ...\rEpoch: 18, train_loss: 0.88176301, train_acc.: 69.34%, val_loss: 1.0127831, val_acc.: 65.44%\n"
          ]
        },
        {
          "output_type": "stream",
          "name": "stderr",
          "text": [
            "100%|████████████████████████████████████████████████████████| 45000/45000 [03:21<00:00, 222.92it/s]\n"
          ]
        },
        {
          "output_type": "stream",
          "name": "stdout",
          "text": [
            "Validating ...\rEpoch: 19, train_loss: 0.86843682, train_acc.: 69.65333%, val_loss: 1.01207852, val_acc.: 65.56%\n"
          ]
        },
        {
          "output_type": "stream",
          "name": "stderr",
          "text": [
            "100%|████████████████████████████████████████████████████████| 45000/45000 [03:21<00:00, 223.19it/s]\n"
          ]
        },
        {
          "output_type": "stream",
          "name": "stdout",
          "text": [
            "Validating ...\rEpoch: 20, train_loss: 0.85720511, train_acc.: 70.14667%, val_loss: 1.00248917, val_acc.: 65.64%\n"
          ]
        },
        {
          "output_type": "stream",
          "name": "stderr",
          "text": [
            "100%|████████████████████████████████████████████████████████| 45000/45000 [03:18<00:00, 226.79it/s]\n"
          ]
        },
        {
          "output_type": "stream",
          "name": "stdout",
          "text": [
            "Validating ...\rEpoch: 21, train_loss: 0.84617103, train_acc.: 70.38889%, val_loss: 1.01783522, val_acc.: 65.46%\n"
          ]
        },
        {
          "output_type": "stream",
          "name": "stderr",
          "text": [
            "100%|████████████████████████████████████████████████████████| 45000/45000 [03:05<00:00, 242.06it/s]\n"
          ]
        },
        {
          "output_type": "stream",
          "name": "stdout",
          "text": [
            "Validating ...\rEpoch: 22, train_loss: 0.83682237, train_acc.: 70.91333%, val_loss: 1.0169418, val_acc.: 65.62%\n"
          ]
        },
        {
          "output_type": "stream",
          "name": "stderr",
          "text": [
            "100%|████████████████████████████████████████████████████████| 45000/45000 [03:01<00:00, 248.36it/s]\n"
          ]
        },
        {
          "output_type": "stream",
          "name": "stdout",
          "text": [
            "Validating ...\rEpoch: 23, train_loss: 0.8285226, train_acc.: 71.22444%, val_loss: 1.01972727, val_acc.: 65.78%\n"
          ]
        },
        {
          "output_type": "stream",
          "name": "stderr",
          "text": [
            "100%|████████████████████████████████████████████████████████| 45000/45000 [03:05<00:00, 242.17it/s]\n"
          ]
        },
        {
          "output_type": "stream",
          "name": "stdout",
          "text": [
            "Validating ...\rEpoch: 24, train_loss: 0.82084533, train_acc.: 71.32%, val_loss: 1.01838892, val_acc.: 65.82%\n"
          ]
        },
        {
          "output_type": "stream",
          "name": "stderr",
          "text": [
            "100%|████████████████████████████████████████████████████████| 45000/45000 [02:58<00:00, 251.83it/s]\n"
          ]
        },
        {
          "output_type": "stream",
          "name": "stdout",
          "text": [
            "Validating ...\rEpoch: 25, train_loss: 0.8127335, train_acc.: 71.67111%, val_loss: 1.01748485, val_acc.: 65.6%\n"
          ]
        },
        {
          "output_type": "stream",
          "name": "stderr",
          "text": [
            "100%|████████████████████████████████████████████████████████| 45000/45000 [03:05<00:00, 242.86it/s]\n"
          ]
        },
        {
          "output_type": "stream",
          "name": "stdout",
          "text": [
            "Validating ...\rEpoch: 26, train_loss: 0.80592023, train_acc.: 71.98444%, val_loss: 1.00743399, val_acc.: 65.94%\n"
          ]
        },
        {
          "output_type": "stream",
          "name": "stderr",
          "text": [
            "100%|████████████████████████████████████████████████████████| 45000/45000 [02:59<00:00, 251.22it/s]\n"
          ]
        },
        {
          "output_type": "stream",
          "name": "stdout",
          "text": [
            "Validating ...\rEpoch: 27, train_loss: 0.79928719, train_acc.: 72.18%, val_loss: 1.01790837, val_acc.: 66.04%\n"
          ]
        },
        {
          "output_type": "stream",
          "name": "stderr",
          "text": [
            "100%|████████████████████████████████████████████████████████| 45000/45000 [02:50<00:00, 263.68it/s]\n"
          ]
        },
        {
          "output_type": "stream",
          "name": "stdout",
          "text": [
            "Validating ...\rEpoch: 28, train_loss: 0.79455622, train_acc.: 72.36889%, val_loss: 1.0171022, val_acc.: 65.88%\n"
          ]
        },
        {
          "output_type": "stream",
          "name": "stderr",
          "text": [
            "100%|████████████████████████████████████████████████████████| 45000/45000 [02:50<00:00, 264.17it/s]\n"
          ]
        },
        {
          "output_type": "stream",
          "name": "stdout",
          "text": [
            "Validating ...\rEpoch: 29, train_loss: 0.78778052, train_acc.: 72.60444%, val_loss: 1.01767613, val_acc.: 66.18%\n"
          ]
        },
        {
          "output_type": "stream",
          "name": "stderr",
          "text": [
            "100%|████████████████████████████████████████████████████████| 45000/45000 [02:49<00:00, 265.33it/s]\n"
          ]
        },
        {
          "output_type": "stream",
          "name": "stdout",
          "text": [
            "Validating ...\rEpoch: 30, train_loss: 0.78312837, train_acc.: 72.77556%, val_loss: 1.01784106, val_acc.: 66.04%\n"
          ]
        },
        {
          "output_type": "stream",
          "name": "stderr",
          "text": [
            "100%|████████████████████████████████████████████████████████| 45000/45000 [02:49<00:00, 266.19it/s]\n"
          ]
        },
        {
          "output_type": "stream",
          "name": "stdout",
          "text": [
            "Validating ...\rEpoch: 31, train_loss: 0.77869102, train_acc.: 72.95333%, val_loss: 1.01483877, val_acc.: 65.5%\n"
          ]
        },
        {
          "output_type": "stream",
          "name": "stderr",
          "text": [
            "100%|████████████████████████████████████████████████████████| 45000/45000 [02:49<00:00, 265.20it/s]\n"
          ]
        },
        {
          "output_type": "stream",
          "name": "stdout",
          "text": [
            "Validating ...\rEpoch: 32, train_loss: 0.77466055, train_acc.: 73.10667%, val_loss: 1.03956556, val_acc.: 64.98%\n"
          ]
        },
        {
          "output_type": "stream",
          "name": "stderr",
          "text": [
            "100%|████████████████████████████████████████████████████████| 45000/45000 [02:49<00:00, 265.73it/s]\n"
          ]
        },
        {
          "output_type": "stream",
          "name": "stdout",
          "text": [
            "Validating ...\rEpoch: 33, train_loss: 0.77099349, train_acc.: 73.32444%, val_loss: 1.027815, val_acc.: 65.1%\n"
          ]
        },
        {
          "output_type": "stream",
          "name": "stderr",
          "text": [
            "100%|████████████████████████████████████████████████████████| 45000/45000 [02:47<00:00, 269.22it/s]\n"
          ]
        },
        {
          "output_type": "stream",
          "name": "stdout",
          "text": [
            "Validating ...\rEpoch: 34, train_loss: 0.76590501, train_acc.: 73.38667%, val_loss: 1.01310992, val_acc.: 65.84%\n"
          ]
        },
        {
          "output_type": "stream",
          "name": "stderr",
          "text": [
            "100%|████████████████████████████████████████████████████████| 45000/45000 [02:44<00:00, 273.43it/s]\n"
          ]
        },
        {
          "output_type": "stream",
          "name": "stdout",
          "text": [
            "Validating ...\rEpoch: 35, train_loss: 0.76319841, train_acc.: 73.56%, val_loss: 1.01640211, val_acc.: 65.68%\n"
          ]
        },
        {
          "output_type": "stream",
          "name": "stderr",
          "text": [
            "100%|████████████████████████████████████████████████████████| 45000/45000 [02:44<00:00, 272.92it/s]\n"
          ]
        },
        {
          "output_type": "stream",
          "name": "stdout",
          "text": [
            "Validating ...\rEpoch: 36, train_loss: 0.75977193, train_acc.: 73.66667%, val_loss: 1.01688658, val_acc.: 65.72%\n"
          ]
        },
        {
          "output_type": "stream",
          "name": "stderr",
          "text": [
            "100%|████████████████████████████████████████████████████████| 45000/45000 [02:43<00:00, 274.79it/s]\n"
          ]
        },
        {
          "output_type": "stream",
          "name": "stdout",
          "text": [
            "Validating ...\rEpoch: 37, train_loss: 0.75615814, train_acc.: 73.68%, val_loss: 1.01846968, val_acc.: 65.82%\n"
          ]
        },
        {
          "output_type": "stream",
          "name": "stderr",
          "text": [
            "100%|████████████████████████████████████████████████████████| 45000/45000 [02:42<00:00, 276.95it/s]\n"
          ]
        },
        {
          "output_type": "stream",
          "name": "stdout",
          "text": [
            "Validating ...\rEpoch: 38, train_loss: 0.75319899, train_acc.: 74.07556%, val_loss: 1.03420741, val_acc.: 65.2%\n"
          ]
        },
        {
          "output_type": "stream",
          "name": "stderr",
          "text": [
            "100%|████████████████████████████████████████████████████████| 45000/45000 [02:42<00:00, 277.20it/s]\n"
          ]
        },
        {
          "output_type": "stream",
          "name": "stdout",
          "text": [
            "Validating ...\rEpoch: 39, train_loss: 0.75008217, train_acc.: 73.98222%, val_loss: 1.04440738, val_acc.: 65.46%\n"
          ]
        },
        {
          "output_type": "stream",
          "name": "stderr",
          "text": [
            "100%|████████████████████████████████████████████████████████| 45000/45000 [02:43<00:00, 274.98it/s]\n"
          ]
        },
        {
          "output_type": "stream",
          "name": "stdout",
          "text": [
            "Validating ...\rEpoch: 40, train_loss: 0.74734089, train_acc.: 73.97778%, val_loss: 1.02765328, val_acc.: 65.7%\n"
          ]
        },
        {
          "output_type": "stream",
          "name": "stderr",
          "text": [
            "100%|████████████████████████████████████████████████████████| 45000/45000 [02:43<00:00, 275.82it/s]\n"
          ]
        },
        {
          "output_type": "stream",
          "name": "stdout",
          "text": [
            "Validating ...\rEpoch: 41, train_loss: 0.74389857, train_acc.: 74.37778%, val_loss: 1.03470627, val_acc.: 65.56%\n"
          ]
        },
        {
          "output_type": "stream",
          "name": "stderr",
          "text": [
            "100%|████████████████████████████████████████████████████████| 45000/45000 [02:42<00:00, 277.44it/s]\n"
          ]
        },
        {
          "output_type": "stream",
          "name": "stdout",
          "text": [
            "Validating ...\rEpoch: 42, train_loss: 0.74155357, train_acc.: 74.12667%, val_loss: 1.03436316, val_acc.: 65.94%\n"
          ]
        },
        {
          "output_type": "stream",
          "name": "stderr",
          "text": [
            "100%|████████████████████████████████████████████████████████| 45000/45000 [02:46<00:00, 269.77it/s]\n"
          ]
        },
        {
          "output_type": "stream",
          "name": "stdout",
          "text": [
            "Validating ...\rEpoch: 43, train_loss: 0.74013717, train_acc.: 74.31556%, val_loss: 1.02588123, val_acc.: 65.98%\n"
          ]
        },
        {
          "output_type": "stream",
          "name": "stderr",
          "text": [
            "100%|████████████████████████████████████████████████████████| 45000/45000 [03:01<00:00, 248.32it/s]\n"
          ]
        },
        {
          "output_type": "stream",
          "name": "stdout",
          "text": [
            "Validating ...\rEpoch: 44, train_loss: 0.73661611, train_acc.: 74.30444%, val_loss: 1.04118012, val_acc.: 65.24%\n"
          ]
        },
        {
          "output_type": "stream",
          "name": "stderr",
          "text": [
            "100%|████████████████████████████████████████████████████████| 45000/45000 [03:07<00:00, 239.71it/s]\n"
          ]
        },
        {
          "output_type": "stream",
          "name": "stdout",
          "text": [
            "Validating ...\rEpoch: 45, train_loss: 0.73439547, train_acc.: 74.39778%, val_loss: 1.04160019, val_acc.: 65.62%\n"
          ]
        },
        {
          "output_type": "stream",
          "name": "stderr",
          "text": [
            "100%|████████████████████████████████████████████████████████| 45000/45000 [03:14<00:00, 231.79it/s]\n"
          ]
        },
        {
          "output_type": "stream",
          "name": "stdout",
          "text": [
            "Validating ...\rEpoch: 46, train_loss: 0.73201192, train_acc.: 74.58444%, val_loss: 1.04127548, val_acc.: 65.54%\n"
          ]
        },
        {
          "output_type": "stream",
          "name": "stderr",
          "text": [
            "100%|████████████████████████████████████████████████████████| 45000/45000 [03:18<00:00, 226.45it/s]\n"
          ]
        },
        {
          "output_type": "stream",
          "name": "stdout",
          "text": [
            "Validating ...\rEpoch: 47, train_loss: 0.72954397, train_acc.: 74.60222%, val_loss: 1.05010987, val_acc.: 65.2%\n"
          ]
        },
        {
          "output_type": "stream",
          "name": "stderr",
          "text": [
            "100%|████████████████████████████████████████████████████████| 45000/45000 [03:12<00:00, 233.36it/s]\n"
          ]
        },
        {
          "output_type": "stream",
          "name": "stdout",
          "text": [
            "Validating ...\rEpoch: 48, train_loss: 0.72801876, train_acc.: 74.63556%, val_loss: 1.05249467, val_acc.: 65.28%\n"
          ]
        },
        {
          "output_type": "stream",
          "name": "stderr",
          "text": [
            "  0%|▎                                                         | 208/45000 [00:00<02:53, 258.65it/s]\n"
          ]
        },
        {
          "output_type": "error",
          "ename": "KeyboardInterrupt",
          "evalue": "ignored",
          "traceback": [
            "\u001b[0;31m---------------------------------------------------------------------------\u001b[0m",
            "\u001b[0;31mKeyboardInterrupt\u001b[0m                         Traceback (most recent call last)",
            "\u001b[0;32m<ipython-input-75-b007ab981868>\u001b[0m in \u001b[0;36m<cell line: 1>\u001b[0;34m()\u001b[0m\n\u001b[0;32m----> 1\u001b[0;31m \u001b[0mcnn\u001b[0m\u001b[0;34m.\u001b[0m\u001b[0mtrain\u001b[0m\u001b[0;34m(\u001b[0m\u001b[0mrand_x_tr\u001b[0m\u001b[0;34m,\u001b[0m \u001b[0mrand_y_tr\u001b[0m\u001b[0;34m,\u001b[0m \u001b[0mepochs\u001b[0m\u001b[0;34m=\u001b[0m\u001b[0;36m100\u001b[0m\u001b[0;34m,\u001b[0m \u001b[0mlearn_rate\u001b[0m\u001b[0;34m=\u001b[0m\u001b[0;36m0.001\u001b[0m\u001b[0;34m,\u001b[0m \u001b[0mval_size\u001b[0m\u001b[0;34m=\u001b[0m\u001b[0;36m0.1\u001b[0m\u001b[0;34m)\u001b[0m\u001b[0;34m\u001b[0m\u001b[0;34m\u001b[0m\u001b[0m\n\u001b[0m",
            "\u001b[0;32m/content/cnn_on_numpy/lib/network.py\u001b[0m in \u001b[0;36mtrain\u001b[0;34m(self, x_train, y_train, epochs, learn_rate, val_size)\u001b[0m\n\u001b[1;32m     64\u001b[0m \u001b[0;34m\u001b[0m\u001b[0m\n\u001b[1;32m     65\u001b[0m                 \u001b[0;31m# pass the image through the network to obtain the probabilities array of the image belonging in each class:\u001b[0m\u001b[0;34m\u001b[0m\u001b[0;34m\u001b[0m\u001b[0m\n\u001b[0;32m---> 66\u001b[0;31m                 \u001b[0mp\u001b[0m \u001b[0;34m=\u001b[0m \u001b[0mself\u001b[0m\u001b[0;34m.\u001b[0m\u001b[0mforwardpass\u001b[0m\u001b[0;34m(\u001b[0m\u001b[0mx\u001b[0m\u001b[0;34m)\u001b[0m \u001b[0;31m# shape (10,1)\u001b[0m\u001b[0;34m\u001b[0m\u001b[0;34m\u001b[0m\u001b[0m\n\u001b[0m\u001b[1;32m     67\u001b[0m \u001b[0;34m\u001b[0m\u001b[0m\n\u001b[1;32m     68\u001b[0m                 \u001b[0;31m# keep track of correct predictions:\u001b[0m\u001b[0;34m\u001b[0m\u001b[0;34m\u001b[0m\u001b[0m\n",
            "\u001b[0;32m/content/cnn_on_numpy/lib/network.py\u001b[0m in \u001b[0;36mforwardpass\u001b[0;34m(self, image)\u001b[0m\n\u001b[1;32m     17\u001b[0m     \u001b[0;32mdef\u001b[0m \u001b[0mforwardpass\u001b[0m\u001b[0;34m(\u001b[0m\u001b[0mself\u001b[0m\u001b[0;34m,\u001b[0m \u001b[0mimage\u001b[0m\u001b[0;34m)\u001b[0m\u001b[0;34m:\u001b[0m\u001b[0;34m\u001b[0m\u001b[0;34m\u001b[0m\u001b[0m\n\u001b[1;32m     18\u001b[0m         \u001b[0;32mfor\u001b[0m \u001b[0mlayer\u001b[0m \u001b[0;32min\u001b[0m \u001b[0mself\u001b[0m\u001b[0;34m.\u001b[0m\u001b[0mlayers\u001b[0m\u001b[0;34m:\u001b[0m\u001b[0;34m\u001b[0m\u001b[0;34m\u001b[0m\u001b[0m\n\u001b[0;32m---> 19\u001b[0;31m             \u001b[0mimage\u001b[0m \u001b[0;34m=\u001b[0m \u001b[0mlayer\u001b[0m\u001b[0;34m.\u001b[0m\u001b[0mforwardprop\u001b[0m\u001b[0;34m(\u001b[0m\u001b[0mimage\u001b[0m\u001b[0;34m)\u001b[0m\u001b[0;34m\u001b[0m\u001b[0;34m\u001b[0m\u001b[0m\n\u001b[0m\u001b[1;32m     20\u001b[0m         \u001b[0;32mreturn\u001b[0m \u001b[0mimage\u001b[0m\u001b[0;34m\u001b[0m\u001b[0;34m\u001b[0m\u001b[0m\n\u001b[1;32m     21\u001b[0m \u001b[0;34m\u001b[0m\u001b[0m\n",
            "\u001b[0;32m/content/cnn_on_numpy/lib/layer.py\u001b[0m in \u001b[0;36mforwardprop\u001b[0;34m(self, sample)\u001b[0m\n\u001b[1;32m    182\u001b[0m         \u001b[0mself\u001b[0m\u001b[0;34m.\u001b[0m\u001b[0mpools\u001b[0m \u001b[0;34m=\u001b[0m \u001b[0mwindowed_sample\u001b[0m\u001b[0;34m\u001b[0m\u001b[0;34m\u001b[0m\u001b[0m\n\u001b[1;32m    183\u001b[0m         \u001b[0;31m# return the one max value from each 2x2 window (axes 2 and 3) --> shape (6,6,16):\u001b[0m\u001b[0;34m\u001b[0m\u001b[0;34m\u001b[0m\u001b[0m\n\u001b[0;32m--> 184\u001b[0;31m         \u001b[0;32mreturn\u001b[0m \u001b[0mnp\u001b[0m\u001b[0;34m.\u001b[0m\u001b[0mamax\u001b[0m\u001b[0;34m(\u001b[0m\u001b[0mwindowed_sample\u001b[0m\u001b[0;34m,\u001b[0m \u001b[0maxis\u001b[0m\u001b[0;34m=\u001b[0m\u001b[0;34m(\u001b[0m\u001b[0;36m2\u001b[0m\u001b[0;34m,\u001b[0m\u001b[0;36m3\u001b[0m\u001b[0;34m)\u001b[0m\u001b[0;34m)\u001b[0m\u001b[0;34m\u001b[0m\u001b[0;34m\u001b[0m\u001b[0m\n\u001b[0m\u001b[1;32m    185\u001b[0m \u001b[0;34m\u001b[0m\u001b[0m\n\u001b[1;32m    186\u001b[0m     \u001b[0;32mdef\u001b[0m \u001b[0mbackprop\u001b[0m\u001b[0;34m(\u001b[0m\u001b[0mself\u001b[0m\u001b[0;34m,\u001b[0m \u001b[0mdL_dout\u001b[0m\u001b[0;34m,\u001b[0m \u001b[0mlearn_rate\u001b[0m\u001b[0;34m)\u001b[0m\u001b[0;34m:\u001b[0m\u001b[0;34m\u001b[0m\u001b[0;34m\u001b[0m\u001b[0m\n",
            "\u001b[0;32m/usr/local/lib/python3.10/dist-packages/numpy/core/overrides.py\u001b[0m in \u001b[0;36mamax\u001b[0;34m(*args, **kwargs)\u001b[0m\n",
            "\u001b[0;32m/usr/local/lib/python3.10/dist-packages/numpy/core/fromnumeric.py\u001b[0m in \u001b[0;36mamax\u001b[0;34m(a, axis, out, keepdims, initial, where)\u001b[0m\n\u001b[1;32m   2789\u001b[0m     \u001b[0;36m5\u001b[0m\u001b[0;34m\u001b[0m\u001b[0;34m\u001b[0m\u001b[0m\n\u001b[1;32m   2790\u001b[0m     \"\"\"\n\u001b[0;32m-> 2791\u001b[0;31m     return _wrapreduction(a, np.maximum, 'max', axis, None, out,\n\u001b[0m\u001b[1;32m   2792\u001b[0m                           keepdims=keepdims, initial=initial, where=where)\n\u001b[1;32m   2793\u001b[0m \u001b[0;34m\u001b[0m\u001b[0m\n",
            "\u001b[0;32m/usr/local/lib/python3.10/dist-packages/numpy/core/fromnumeric.py\u001b[0m in \u001b[0;36m_wrapreduction\u001b[0;34m(obj, ufunc, method, axis, dtype, out, **kwargs)\u001b[0m\n\u001b[1;32m     84\u001b[0m                 \u001b[0;32mreturn\u001b[0m \u001b[0mreduction\u001b[0m\u001b[0;34m(\u001b[0m\u001b[0maxis\u001b[0m\u001b[0;34m=\u001b[0m\u001b[0maxis\u001b[0m\u001b[0;34m,\u001b[0m \u001b[0mout\u001b[0m\u001b[0;34m=\u001b[0m\u001b[0mout\u001b[0m\u001b[0;34m,\u001b[0m \u001b[0;34m**\u001b[0m\u001b[0mpasskwargs\u001b[0m\u001b[0;34m)\u001b[0m\u001b[0;34m\u001b[0m\u001b[0;34m\u001b[0m\u001b[0m\n\u001b[1;32m     85\u001b[0m \u001b[0;34m\u001b[0m\u001b[0m\n\u001b[0;32m---> 86\u001b[0;31m     \u001b[0;32mreturn\u001b[0m \u001b[0mufunc\u001b[0m\u001b[0;34m.\u001b[0m\u001b[0mreduce\u001b[0m\u001b[0;34m(\u001b[0m\u001b[0mobj\u001b[0m\u001b[0;34m,\u001b[0m \u001b[0maxis\u001b[0m\u001b[0;34m,\u001b[0m \u001b[0mdtype\u001b[0m\u001b[0;34m,\u001b[0m \u001b[0mout\u001b[0m\u001b[0;34m,\u001b[0m \u001b[0;34m**\u001b[0m\u001b[0mpasskwargs\u001b[0m\u001b[0;34m)\u001b[0m\u001b[0;34m\u001b[0m\u001b[0;34m\u001b[0m\u001b[0m\n\u001b[0m\u001b[1;32m     87\u001b[0m \u001b[0;34m\u001b[0m\u001b[0m\n\u001b[1;32m     88\u001b[0m \u001b[0;34m\u001b[0m\u001b[0m\n",
            "\u001b[0;31mKeyboardInterrupt\u001b[0m: "
          ]
        }
      ]
    },
    {
      "cell_type": "markdown",
      "source": [
        "The training run was stopped manually since we can notice validation accuracy has plateaued at around 65%, which is not too bad for such a simple CNN structure with just 12474 trainable parameters in total. Any further training will just result in overfitting to the training set. We can now try and use our learned model to predict test data:"
      ],
      "metadata": {
        "id": "1-X8Wxh5QTlQ"
      }
    },
    {
      "cell_type": "code",
      "source": [
        "# function to predict new inputs:\n",
        "def get_pred(model, x_test):\n",
        "  y_pred = np.array([])\n",
        "  for i in range(x_test.shape[0]):\n",
        "    p = model.forwardpass(x_test[i])\n",
        "    y_pred = np.append(y_pred, np.argmax(p))\n",
        "  return y_pred.astype('int64')\n",
        "\n",
        "# function to check similarity percentage between two arrays, i.e. vectorized accuracy calculation:\n",
        "def get_acc(y_test, y_pred):\n",
        "  diff = y_test - y_pred\n",
        "  correct_preds = diff[diff==0].shape[0]\n",
        "  acc = correct_preds*100/y_test.shape[0]\n",
        "  print(f'Test Accuracy: {acc}%')"
      ],
      "metadata": {
        "id": "KdyI6PhWKG3Z"
      },
      "execution_count": null,
      "outputs": []
    },
    {
      "cell_type": "code",
      "source": [
        "# predict x_test:\n",
        "y_pred = get_pred(cnn, x_test_scaled)"
      ],
      "metadata": {
        "id": "6zLxIbWvLoYT"
      },
      "execution_count": null,
      "outputs": []
    },
    {
      "cell_type": "code",
      "source": [
        "get_acc(y_test, y_pred)"
      ],
      "metadata": {
        "colab": {
          "base_uri": "https://localhost:8080/"
        },
        "id": "AsNjG09CMlQF",
        "outputId": "c5ab9c7b-7dcb-4444-8241-147e524a65ec"
      },
      "execution_count": null,
      "outputs": [
        {
          "output_type": "stream",
          "name": "stdout",
          "text": [
            "Test Accuracy: 64.58%\n"
          ]
        }
      ]
    },
    {
      "cell_type": "code",
      "source": [
        "# plot images with predictions:\n",
        "plot_6(y_hat=y_pred)"
      ],
      "metadata": {
        "colab": {
          "base_uri": "https://localhost:8080/",
          "height": 443
        },
        "id": "D01GZ56sOBry",
        "outputId": "73aaeb83-8fa6-48ea-d5ba-822a0c05f3d5"
      },
      "execution_count": null,
      "outputs": [
        {
          "output_type": "display_data",
          "data": {
            "text/plain": [
              "<Figure size 640x480 with 6 Axes>"
            ],
            "image/png": "[encoded data removed]"
          },
          "metadata": {}
        }
      ]
    },
    {
      "cell_type": "markdown",
      "source": [
        "We can see the final picture was a little too tricky for the network as it could not recognise the bird and predicted a deer instead. This could be due to the green colours (deers are often surrounded by greens) and the sharp features present in the image. A deeper network with more filters and less pooling layers may be able to detect the shape of the bird better."
      ],
      "metadata": {
        "id": "djePO6h3bc9u"
      }
    },
    {
      "cell_type": "markdown",
      "source": [
        "#### 3. Conclusion:\n",
        "This notebook has demonstrated that our modularCNN library had successfully worked as a basis upon which convolutional neural networks can be built. Even though performance may not be as extremely optimised as dedicated libraries such as keras or pytorch, it was still hundreds of orders of magnitude faster than an implementation using just python for loops: an epoch in the example above only took nearly 3 minutes whereas it would have taken many hours using a naive implementation. The example architecture constructed managed to get 64.58% test accuracy, even with just 3 Convolutional and Pooling layers and absolutely no regularization or optimisation methods implemented. These features are expected to be added to the library in the near future."
      ],
      "metadata": {
        "id": "HNoQAwQfR4mi"
      }
    }
  ]
}