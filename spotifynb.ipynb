{
 "cells": [
  {
   "attachments": {},
   "cell_type": "markdown",
   "metadata": {},
   "source": [
    "# Introduction\n",
    "This notebook analyses the data gathered from the Spotify API for the top 100 most streamed songs of all time on the Spotify platform ([Kaggle dataset](https://www.kaggle.com/datasets/amaanansari09/most-streamed-songs-all-time)). The main aim is to determine the most popular artists and song features amongst the hits, which could potentially be beneficial knowledge for music producers that aims to produce a hit song. The data also allowed for the prediction of a song's energy level based on its audio features, which can be helpful particularly as part of a music recommender system. For this, several machine learning models were built and tested on their prediction performance."
   ]
  },
  {
   "attachments": {},
   "cell_type": "markdown",
   "metadata": {},
   "source": [
    "# Summary\n",
    "The analysis showed that the most popular song features amongst all the hits included a tempo of around 110 bpm, loudness -6 dB, duration from 3 to 3.5 minutes and key C# major. The artist with the most total streams was Ed Sheeran, with 11.682 billions, whereas the artist with the most number of songs in the list was Justin Bieber with 6 apperances. The analysis also showed that older hits tend to be longer in duration compared to more recent ones and being written more in major keys. It was also found that songs which are predicted to be acoustic tend to be less loud and energetic.\n",
    "\n",
    "Among the investigated regression models, support vector regression (SVR) was the most well fitted to the dataset to predict the energy level of a song, with a validation score of 64% and also performed relatively well on unseen test data with around 56% of the variation in energy successfully predicted by the model."
   ]
  },
  {
   "attachments": {},
   "cell_type": "markdown",
   "metadata": {},
   "source": [
    "# *I. DATA CLEANING*"
   ]
  },
  {
   "cell_type": "code",
   "execution_count": 1,
   "metadata": {},
   "outputs": [],
   "source": [
    "#IMPORTS\n",
    "import numpy as np\n",
    "import pandas as pd\n",
    "import matplotlib.pyplot as plt\n",
    "import seaborn as sns\n",
    "import plotly.graph_objects as go"
   ]
  },
  {
   "cell_type": "code",
   "execution_count": 2,
   "metadata": {},
   "outputs": [],
   "source": [
    "#IMPORTING THE DATASET\n",
    "df_feat = pd.read_csv(r\"Features.csv\")\n",
    "df_stre = pd.read_csv(r\"Streams.csv\")"
   ]
  },
  {
   "cell_type": "code",
   "execution_count": 3,
   "metadata": {},
   "outputs": [
    {
     "data": {
      "text/html": [
       "<div>\n",
       "<style scoped>\n",
       "    .dataframe tbody tr th:only-of-type {\n",
       "        vertical-align: middle;\n",
       "    }\n",
       "\n",
       "    .dataframe tbody tr th {\n",
       "        vertical-align: top;\n",
       "    }\n",
       "\n",
       "    .dataframe thead th {\n",
       "        text-align: right;\n",
       "    }\n",
       "</style>\n",
       "<table border=\"1\" class=\"dataframe\">\n",
       "  <thead>\n",
       "    <tr style=\"text-align: right;\">\n",
       "      <th></th>\n",
       "      <th>Song</th>\n",
       "      <th>Artist</th>\n",
       "      <th>Streams (Billions)</th>\n",
       "      <th>Release Date</th>\n",
       "    </tr>\n",
       "  </thead>\n",
       "  <tbody>\n",
       "    <tr>\n",
       "      <th>0</th>\n",
       "      <td>Blinding Lights</td>\n",
       "      <td>The Weeknd</td>\n",
       "      <td>3.449</td>\n",
       "      <td>29-Nov-19</td>\n",
       "    </tr>\n",
       "    <tr>\n",
       "      <th>1</th>\n",
       "      <td>Shape of You</td>\n",
       "      <td>Ed Sheeran</td>\n",
       "      <td>3.398</td>\n",
       "      <td>06-Jan-17</td>\n",
       "    </tr>\n",
       "    <tr>\n",
       "      <th>2</th>\n",
       "      <td>Dance Monkey</td>\n",
       "      <td>Tones And I</td>\n",
       "      <td>2.770</td>\n",
       "      <td>10-May-19</td>\n",
       "    </tr>\n",
       "  </tbody>\n",
       "</table>\n",
       "</div>"
      ],
      "text/plain": [
       "              Song       Artist  Streams (Billions) Release Date\n",
       "0  Blinding Lights   The Weeknd               3.449    29-Nov-19\n",
       "1     Shape of You   Ed Sheeran               3.398    06-Jan-17\n",
       "2     Dance Monkey  Tones And I               2.770    10-May-19"
      ]
     },
     "execution_count": 3,
     "metadata": {},
     "output_type": "execute_result"
    }
   ],
   "source": [
    "df_stre.head(3)"
   ]
  },
  {
   "cell_type": "code",
   "execution_count": 4,
   "metadata": {},
   "outputs": [
    {
     "data": {
      "text/html": [
       "<div>\n",
       "<style scoped>\n",
       "    .dataframe tbody tr th:only-of-type {\n",
       "        vertical-align: middle;\n",
       "    }\n",
       "\n",
       "    .dataframe tbody tr th {\n",
       "        vertical-align: top;\n",
       "    }\n",
       "\n",
       "    .dataframe thead th {\n",
       "        text-align: right;\n",
       "    }\n",
       "</style>\n",
       "<table border=\"1\" class=\"dataframe\">\n",
       "  <thead>\n",
       "    <tr style=\"text-align: right;\">\n",
       "      <th></th>\n",
       "      <th>id</th>\n",
       "      <th>name</th>\n",
       "      <th>duration</th>\n",
       "      <th>energy</th>\n",
       "      <th>key</th>\n",
       "      <th>loudness</th>\n",
       "      <th>mode</th>\n",
       "      <th>speechiness</th>\n",
       "      <th>acousticness</th>\n",
       "      <th>instrumentalness</th>\n",
       "      <th>liveness</th>\n",
       "      <th>valence</th>\n",
       "      <th>tempo</th>\n",
       "      <th>danceability</th>\n",
       "    </tr>\n",
       "  </thead>\n",
       "  <tbody>\n",
       "    <tr>\n",
       "      <th>0</th>\n",
       "      <td>0VjIjW4GlUZAMYd2vXMi3b</td>\n",
       "      <td>Blinding Lights</td>\n",
       "      <td>3.33</td>\n",
       "      <td>0.730</td>\n",
       "      <td>1</td>\n",
       "      <td>-5.934</td>\n",
       "      <td>1</td>\n",
       "      <td>0.0598</td>\n",
       "      <td>0.00146</td>\n",
       "      <td>0.000095</td>\n",
       "      <td>0.0897</td>\n",
       "      <td>0.334</td>\n",
       "      <td>171.005</td>\n",
       "      <td>0.514</td>\n",
       "    </tr>\n",
       "    <tr>\n",
       "      <th>1</th>\n",
       "      <td>7qiZfU4dY1lWllzX7mPBI3</td>\n",
       "      <td>Shape of You</td>\n",
       "      <td>3.90</td>\n",
       "      <td>0.652</td>\n",
       "      <td>1</td>\n",
       "      <td>-3.183</td>\n",
       "      <td>0</td>\n",
       "      <td>0.0802</td>\n",
       "      <td>0.58100</td>\n",
       "      <td>0.000000</td>\n",
       "      <td>0.0931</td>\n",
       "      <td>0.931</td>\n",
       "      <td>95.977</td>\n",
       "      <td>0.825</td>\n",
       "    </tr>\n",
       "    <tr>\n",
       "      <th>2</th>\n",
       "      <td>2XU0oxnq2qxCpomAAuJY8K</td>\n",
       "      <td>Dance Monkey</td>\n",
       "      <td>3.49</td>\n",
       "      <td>0.588</td>\n",
       "      <td>6</td>\n",
       "      <td>-6.400</td>\n",
       "      <td>0</td>\n",
       "      <td>0.0924</td>\n",
       "      <td>0.69200</td>\n",
       "      <td>0.000104</td>\n",
       "      <td>0.1490</td>\n",
       "      <td>0.513</td>\n",
       "      <td>98.027</td>\n",
       "      <td>0.824</td>\n",
       "    </tr>\n",
       "  </tbody>\n",
       "</table>\n",
       "</div>"
      ],
      "text/plain": [
       "                       id             name  duration  energy  key  loudness  \\\n",
       "0  0VjIjW4GlUZAMYd2vXMi3b  Blinding Lights      3.33   0.730    1    -5.934   \n",
       "1  7qiZfU4dY1lWllzX7mPBI3     Shape of You      3.90   0.652    1    -3.183   \n",
       "2  2XU0oxnq2qxCpomAAuJY8K     Dance Monkey      3.49   0.588    6    -6.400   \n",
       "\n",
       "   mode  speechiness  acousticness  instrumentalness  liveness  valence  \\\n",
       "0     1       0.0598       0.00146          0.000095    0.0897    0.334   \n",
       "1     0       0.0802       0.58100          0.000000    0.0931    0.931   \n",
       "2     0       0.0924       0.69200          0.000104    0.1490    0.513   \n",
       "\n",
       "     tempo  danceability  \n",
       "0  171.005         0.514  \n",
       "1   95.977         0.825  \n",
       "2   98.027         0.824  "
      ]
     },
     "execution_count": 4,
     "metadata": {},
     "output_type": "execute_result"
    }
   ],
   "source": [
    "df_feat.head(3)"
   ]
  },
  {
   "attachments": {},
   "cell_type": "markdown",
   "metadata": {},
   "source": [
    "**Feature Description:**<br>\n",
    "Obtained from the Spotify API:<br><br>\n",
    "Song Properties:\n",
    "- duration: measure of song duration in minutes\n",
    "- key: the key the track is in: 0 to 11 (C, C#, D,..., A#, B)\n",
    "- mode: modality of the track: 0 - Minor or 1 - Major. Mode usually goes with Key, for example a song is said to be in the key of A minor, G# major, etc.\n",
    "- loudness: measured loudness of the track in decibels (dB)\n",
    "- tempo: overall pace of the song in beats per minute (bpm)\n",
    "\n",
    "Audio Features:\n",
    "- energy: Energy is a measure from 0.0 to 1.0 and represents a perceptual measure of intensity and activity. \n",
    "- speechiness: Detects the presence of spoken word in a track. speechiness > 0.66 represent talk shows, podcasts, etc., 0.33 to 0.66 represent genres such as rap, while lower than 0.33 the track most probably is music.\n",
    "- acousticness: A confidence measure from 0.0 to 1.0 of whether the track is acoustic. 1.0 represents high confidence the track is acoustic.\n",
    "- instrumentalness: Predicts whether a track is instrumental (containing no vocals). Values > 0.5 represent purely instrumental tracks, with confidence increasing the closer the value is to 1\n",
    "- liveness: Detects the presence of an audience in the recording. Higher liveness values represent an increased probability that the track was performed live.\n",
    "- valence: A measure from 0.0 to 1.0 describing the musical positiveness conveyed by a track. Values close to 1 represent\n",
    "- danceability: 0 to 1, describes how suitable a track is for dancing. Values close to 1 means the track is very danceable.\n",
    "\n"
   ]
  },
  {
   "attachments": {},
   "cell_type": "markdown",
   "metadata": {},
   "source": [
    "### 1. Data Preparation:"
   ]
  },
  {
   "attachments": {},
   "cell_type": "markdown",
   "metadata": {},
   "source": [
    "Our dataset is relatively clean to work with, however, we need to address the following points before carrying out analysis:\n",
    "- Artist column can contain multiple artists, which makes it difficult for artist analysis\n",
    "- String data such as song name and artist are not formatted well with random extra spaces"
   ]
  },
  {
   "cell_type": "code",
   "execution_count": 5,
   "metadata": {},
   "outputs": [],
   "source": [
    "#CREATING A GENERAL DATAFRAME BY MERGING THE TWO DATAFRAMES, FIRST CHECKING IF SONG NAMES ARE IDENTICAL IN EACH RECORD:\n",
    "n=0\n",
    "for i in range(0, df_feat.shape[0]):\n",
    "    if df_feat.loc[i,'name'] == df_stre.loc[i,'Song']:\n",
    "        n+=1\n",
    "        \n",
    "#IF ALL SONG NAMES MATCH, CREATE THE JOINED DATAFRAME, DROP ONE OF THE SONG NAME COLUMNS AND CREATE A NEW COLUMN 'RANK'\n",
    "if n == df_feat.shape[0]:\n",
    "    df = pd.concat([df_stre, df_feat], axis=1)\n",
    "    df = df.drop('name',axis=1)\n",
    "    df['rank'] = list(range(1, (df.shape[0]+1)))\n",
    "else: print('error: mismatched data')"
   ]
  },
  {
   "cell_type": "code",
   "execution_count": 6,
   "metadata": {},
   "outputs": [
    {
     "data": {
      "text/html": [
       "<div>\n",
       "<style scoped>\n",
       "    .dataframe tbody tr th:only-of-type {\n",
       "        vertical-align: middle;\n",
       "    }\n",
       "\n",
       "    .dataframe tbody tr th {\n",
       "        vertical-align: top;\n",
       "    }\n",
       "\n",
       "    .dataframe thead th {\n",
       "        text-align: right;\n",
       "    }\n",
       "</style>\n",
       "<table border=\"1\" class=\"dataframe\">\n",
       "  <thead>\n",
       "    <tr style=\"text-align: right;\">\n",
       "      <th></th>\n",
       "      <th>Song</th>\n",
       "      <th>Artist</th>\n",
       "      <th>Streams (Billions)</th>\n",
       "      <th>Release Date</th>\n",
       "      <th>id</th>\n",
       "      <th>duration</th>\n",
       "      <th>energy</th>\n",
       "      <th>key</th>\n",
       "      <th>loudness</th>\n",
       "      <th>mode</th>\n",
       "      <th>speechiness</th>\n",
       "      <th>acousticness</th>\n",
       "      <th>instrumentalness</th>\n",
       "      <th>liveness</th>\n",
       "      <th>valence</th>\n",
       "      <th>tempo</th>\n",
       "      <th>danceability</th>\n",
       "      <th>rank</th>\n",
       "    </tr>\n",
       "  </thead>\n",
       "  <tbody>\n",
       "    <tr>\n",
       "      <th>0</th>\n",
       "      <td>Blinding Lights</td>\n",
       "      <td>The Weeknd</td>\n",
       "      <td>3.449</td>\n",
       "      <td>29-Nov-19</td>\n",
       "      <td>0VjIjW4GlUZAMYd2vXMi3b</td>\n",
       "      <td>3.33</td>\n",
       "      <td>0.730</td>\n",
       "      <td>1</td>\n",
       "      <td>-5.934</td>\n",
       "      <td>1</td>\n",
       "      <td>0.0598</td>\n",
       "      <td>0.00146</td>\n",
       "      <td>0.000095</td>\n",
       "      <td>0.0897</td>\n",
       "      <td>0.334</td>\n",
       "      <td>171.005</td>\n",
       "      <td>0.514</td>\n",
       "      <td>1</td>\n",
       "    </tr>\n",
       "    <tr>\n",
       "      <th>1</th>\n",
       "      <td>Shape of You</td>\n",
       "      <td>Ed Sheeran</td>\n",
       "      <td>3.398</td>\n",
       "      <td>06-Jan-17</td>\n",
       "      <td>7qiZfU4dY1lWllzX7mPBI3</td>\n",
       "      <td>3.90</td>\n",
       "      <td>0.652</td>\n",
       "      <td>1</td>\n",
       "      <td>-3.183</td>\n",
       "      <td>0</td>\n",
       "      <td>0.0802</td>\n",
       "      <td>0.58100</td>\n",
       "      <td>0.000000</td>\n",
       "      <td>0.0931</td>\n",
       "      <td>0.931</td>\n",
       "      <td>95.977</td>\n",
       "      <td>0.825</td>\n",
       "      <td>2</td>\n",
       "    </tr>\n",
       "    <tr>\n",
       "      <th>2</th>\n",
       "      <td>Dance Monkey</td>\n",
       "      <td>Tones And I</td>\n",
       "      <td>2.770</td>\n",
       "      <td>10-May-19</td>\n",
       "      <td>2XU0oxnq2qxCpomAAuJY8K</td>\n",
       "      <td>3.49</td>\n",
       "      <td>0.588</td>\n",
       "      <td>6</td>\n",
       "      <td>-6.400</td>\n",
       "      <td>0</td>\n",
       "      <td>0.0924</td>\n",
       "      <td>0.69200</td>\n",
       "      <td>0.000104</td>\n",
       "      <td>0.1490</td>\n",
       "      <td>0.513</td>\n",
       "      <td>98.027</td>\n",
       "      <td>0.824</td>\n",
       "      <td>3</td>\n",
       "    </tr>\n",
       "  </tbody>\n",
       "</table>\n",
       "</div>"
      ],
      "text/plain": [
       "              Song       Artist  Streams (Billions) Release Date  \\\n",
       "0  Blinding Lights   The Weeknd               3.449    29-Nov-19   \n",
       "1     Shape of You   Ed Sheeran               3.398    06-Jan-17   \n",
       "2     Dance Monkey  Tones And I               2.770    10-May-19   \n",
       "\n",
       "                       id  duration  energy  key  loudness  mode  speechiness  \\\n",
       "0  0VjIjW4GlUZAMYd2vXMi3b      3.33   0.730    1    -5.934     1       0.0598   \n",
       "1  7qiZfU4dY1lWllzX7mPBI3      3.90   0.652    1    -3.183     0       0.0802   \n",
       "2  2XU0oxnq2qxCpomAAuJY8K      3.49   0.588    6    -6.400     0       0.0924   \n",
       "\n",
       "   acousticness  instrumentalness  liveness  valence    tempo  danceability  \\\n",
       "0       0.00146          0.000095    0.0897    0.334  171.005         0.514   \n",
       "1       0.58100          0.000000    0.0931    0.931   95.977         0.825   \n",
       "2       0.69200          0.000104    0.1490    0.513   98.027         0.824   \n",
       "\n",
       "   rank  \n",
       "0     1  \n",
       "1     2  \n",
       "2     3  "
      ]
     },
     "execution_count": 6,
     "metadata": {},
     "output_type": "execute_result"
    }
   ],
   "source": [
    "df.head(3)"
   ]
  },
  {
   "cell_type": "code",
   "execution_count": 7,
   "metadata": {},
   "outputs": [],
   "source": [
    "#CREATE ARTIST 1,2,3 COLUMNS TO SEPARATE ARTISTS WHERE THERE ARE MORE THAN ONE ARTISTS IN ONE SONG:\n",
    "def get_artist1(artists):\n",
    "    all=artists\n",
    "    all=all.replace('featuring',',').replace('and',',').replace('&',',').replace('with',',')\n",
    "    list_all = all.split(',')\n",
    "    return list_all[0].lstrip().rstrip()\n",
    "\n",
    "def get_artist2(artists):\n",
    "    all=artists\n",
    "    all=all.replace('featuring',',').replace('and',',').replace('&',',').replace('with',',')\n",
    "    list_all = all.split(',')\n",
    "    if len(list_all)>1: return list_all[1].lstrip().rstrip()\n",
    "    else: return 'No 2nd artist'\n",
    "\n",
    "def get_artist3(artists):\n",
    "    all=artists\n",
    "    all=all.replace('featuring',',').replace('and',',').replace('&',',').replace('with',',')\n",
    "    list_all = all.split(',')\n",
    "    if len(list_all)>2: return list_all[2].lstrip().rstrip()\n",
    "    else: return 'No 3rd artist'\n",
    "\n",
    "df['Artist 1']=df['Artist'].apply(get_artist1)\n",
    "df['Artist 2']=df['Artist'].apply(get_artist2)\n",
    "df['Artist 3']=df['Artist'].apply(get_artist3)\n"
   ]
  },
  {
   "cell_type": "code",
   "execution_count": 8,
   "metadata": {},
   "outputs": [
    {
     "name": "stderr",
     "output_type": "stream",
     "text": [
      "C:\\Users\\Zephyrus M15\\AppData\\Local\\Temp\\ipykernel_344\\3449578465.py:3: SettingWithCopyWarning: \n",
      "A value is trying to be set on a copy of a slice from a DataFrame\n",
      "\n",
      "See the caveats in the documentation: https://pandas.pydata.org/pandas-docs/stable/user_guide/indexing.html#returning-a-view-versus-a-copy\n",
      "  df['Artist 2'].loc[df['Artist 1']=='Ariana Grande'] = 'No 2nd artist'\n"
     ]
    }
   ],
   "source": [
    "#CORRECTING FOR \"ARIANA GRANDE\" WHICH WAS AFFECTED BY THE SPLIT WITH DELIMITER \"AND\"\n",
    "df['Artist 1']=df['Artist 1'].str.replace('Ariana Gr', 'Ariana Grande')\n",
    "df['Artist 2'].loc[df['Artist 1']=='Ariana Grande'] = 'No 2nd artist'"
   ]
  },
  {
   "cell_type": "code",
   "execution_count": 9,
   "metadata": {},
   "outputs": [],
   "source": [
    "#CONVERT 'RELEASE DATE' COLUMN INTO DATETIME64 DATA TYPE AND ADD A SONG AGE COLUMN:\n",
    "df['Release Date'] = df['Release Date'].astype('datetime64[ns]')\n",
    "\n",
    "#THE DATASET WAS LAST UPDATED ON 8/3/2023, CALCULATE THE AGE OF EACH SONG UP TO THIS DATE AND ASSIGN TO A COLUMN:\n",
    "df['Song Age (Days)'] = -((pd.to_datetime('08-Mar-2023') - df['Release Date'])/np.timedelta64(1, 'D'))"
   ]
  },
  {
   "cell_type": "code",
   "execution_count": 10,
   "metadata": {},
   "outputs": [
    {
     "data": {
      "text/html": [
       "<div>\n",
       "<style scoped>\n",
       "    .dataframe tbody tr th:only-of-type {\n",
       "        vertical-align: middle;\n",
       "    }\n",
       "\n",
       "    .dataframe tbody tr th {\n",
       "        vertical-align: top;\n",
       "    }\n",
       "\n",
       "    .dataframe thead th {\n",
       "        text-align: right;\n",
       "    }\n",
       "</style>\n",
       "<table border=\"1\" class=\"dataframe\">\n",
       "  <thead>\n",
       "    <tr style=\"text-align: right;\">\n",
       "      <th></th>\n",
       "      <th>Song</th>\n",
       "      <th>Artist</th>\n",
       "      <th>Streams (Billions)</th>\n",
       "      <th>Release Date</th>\n",
       "      <th>id</th>\n",
       "      <th>duration</th>\n",
       "      <th>energy</th>\n",
       "      <th>key</th>\n",
       "      <th>loudness</th>\n",
       "      <th>mode</th>\n",
       "      <th>...</th>\n",
       "      <th>instrumentalness</th>\n",
       "      <th>liveness</th>\n",
       "      <th>valence</th>\n",
       "      <th>tempo</th>\n",
       "      <th>danceability</th>\n",
       "      <th>rank</th>\n",
       "      <th>Artist 1</th>\n",
       "      <th>Artist 2</th>\n",
       "      <th>Artist 3</th>\n",
       "      <th>Song Age (Days)</th>\n",
       "    </tr>\n",
       "  </thead>\n",
       "  <tbody>\n",
       "    <tr>\n",
       "      <th>0</th>\n",
       "      <td>Blinding Lights</td>\n",
       "      <td>The Weeknd</td>\n",
       "      <td>3.449</td>\n",
       "      <td>2019-11-29</td>\n",
       "      <td>0VjIjW4GlUZAMYd2vXMi3b</td>\n",
       "      <td>3.33</td>\n",
       "      <td>0.730</td>\n",
       "      <td>1</td>\n",
       "      <td>-5.934</td>\n",
       "      <td>1</td>\n",
       "      <td>...</td>\n",
       "      <td>0.000095</td>\n",
       "      <td>0.0897</td>\n",
       "      <td>0.334</td>\n",
       "      <td>171.005</td>\n",
       "      <td>0.514</td>\n",
       "      <td>1</td>\n",
       "      <td>The Weeknd</td>\n",
       "      <td>No 2nd artist</td>\n",
       "      <td>No 3rd artist</td>\n",
       "      <td>-1195.0</td>\n",
       "    </tr>\n",
       "    <tr>\n",
       "      <th>1</th>\n",
       "      <td>Shape of You</td>\n",
       "      <td>Ed Sheeran</td>\n",
       "      <td>3.398</td>\n",
       "      <td>2017-01-06</td>\n",
       "      <td>7qiZfU4dY1lWllzX7mPBI3</td>\n",
       "      <td>3.90</td>\n",
       "      <td>0.652</td>\n",
       "      <td>1</td>\n",
       "      <td>-3.183</td>\n",
       "      <td>0</td>\n",
       "      <td>...</td>\n",
       "      <td>0.000000</td>\n",
       "      <td>0.0931</td>\n",
       "      <td>0.931</td>\n",
       "      <td>95.977</td>\n",
       "      <td>0.825</td>\n",
       "      <td>2</td>\n",
       "      <td>Ed Sheeran</td>\n",
       "      <td>No 2nd artist</td>\n",
       "      <td>No 3rd artist</td>\n",
       "      <td>-2252.0</td>\n",
       "    </tr>\n",
       "    <tr>\n",
       "      <th>2</th>\n",
       "      <td>Dance Monkey</td>\n",
       "      <td>Tones And I</td>\n",
       "      <td>2.770</td>\n",
       "      <td>2019-05-10</td>\n",
       "      <td>2XU0oxnq2qxCpomAAuJY8K</td>\n",
       "      <td>3.49</td>\n",
       "      <td>0.588</td>\n",
       "      <td>6</td>\n",
       "      <td>-6.400</td>\n",
       "      <td>0</td>\n",
       "      <td>...</td>\n",
       "      <td>0.000104</td>\n",
       "      <td>0.1490</td>\n",
       "      <td>0.513</td>\n",
       "      <td>98.027</td>\n",
       "      <td>0.824</td>\n",
       "      <td>3</td>\n",
       "      <td>Tones And I</td>\n",
       "      <td>No 2nd artist</td>\n",
       "      <td>No 3rd artist</td>\n",
       "      <td>-1398.0</td>\n",
       "    </tr>\n",
       "    <tr>\n",
       "      <th>3</th>\n",
       "      <td>Someone You Loved</td>\n",
       "      <td>Lewis Capaldi</td>\n",
       "      <td>2.680</td>\n",
       "      <td>2018-11-08</td>\n",
       "      <td>7qEHsqek33rTcFNT9PFqLf</td>\n",
       "      <td>3.04</td>\n",
       "      <td>0.405</td>\n",
       "      <td>1</td>\n",
       "      <td>-5.679</td>\n",
       "      <td>1</td>\n",
       "      <td>...</td>\n",
       "      <td>0.000000</td>\n",
       "      <td>0.1050</td>\n",
       "      <td>0.446</td>\n",
       "      <td>109.891</td>\n",
       "      <td>0.501</td>\n",
       "      <td>4</td>\n",
       "      <td>Lewis Capaldi</td>\n",
       "      <td>No 2nd artist</td>\n",
       "      <td>No 3rd artist</td>\n",
       "      <td>-1581.0</td>\n",
       "    </tr>\n",
       "    <tr>\n",
       "      <th>4</th>\n",
       "      <td>Rockstar</td>\n",
       "      <td>Post Malone featuring 21 Savage</td>\n",
       "      <td>2.620</td>\n",
       "      <td>2017-09-15</td>\n",
       "      <td>0e7ipj03S05BNilyu5bRzt</td>\n",
       "      <td>3.64</td>\n",
       "      <td>0.520</td>\n",
       "      <td>5</td>\n",
       "      <td>-6.136</td>\n",
       "      <td>0</td>\n",
       "      <td>...</td>\n",
       "      <td>0.000070</td>\n",
       "      <td>0.1310</td>\n",
       "      <td>0.129</td>\n",
       "      <td>159.801</td>\n",
       "      <td>0.585</td>\n",
       "      <td>5</td>\n",
       "      <td>Post Malone</td>\n",
       "      <td>21 Savage</td>\n",
       "      <td>No 3rd artist</td>\n",
       "      <td>-2000.0</td>\n",
       "    </tr>\n",
       "  </tbody>\n",
       "</table>\n",
       "<p>5 rows × 22 columns</p>\n",
       "</div>"
      ],
      "text/plain": [
       "                Song                           Artist  Streams (Billions)  \\\n",
       "0    Blinding Lights                       The Weeknd               3.449   \n",
       "1       Shape of You                       Ed Sheeran               3.398   \n",
       "2       Dance Monkey                      Tones And I               2.770   \n",
       "3  Someone You Loved                    Lewis Capaldi               2.680   \n",
       "4           Rockstar  Post Malone featuring 21 Savage               2.620   \n",
       "\n",
       "  Release Date                      id  duration  energy  key  loudness  mode  \\\n",
       "0   2019-11-29  0VjIjW4GlUZAMYd2vXMi3b      3.33   0.730    1    -5.934     1   \n",
       "1   2017-01-06  7qiZfU4dY1lWllzX7mPBI3      3.90   0.652    1    -3.183     0   \n",
       "2   2019-05-10  2XU0oxnq2qxCpomAAuJY8K      3.49   0.588    6    -6.400     0   \n",
       "3   2018-11-08  7qEHsqek33rTcFNT9PFqLf      3.04   0.405    1    -5.679     1   \n",
       "4   2017-09-15  0e7ipj03S05BNilyu5bRzt      3.64   0.520    5    -6.136     0   \n",
       "\n",
       "   ...  instrumentalness  liveness  valence    tempo  danceability  rank  \\\n",
       "0  ...          0.000095    0.0897    0.334  171.005         0.514     1   \n",
       "1  ...          0.000000    0.0931    0.931   95.977         0.825     2   \n",
       "2  ...          0.000104    0.1490    0.513   98.027         0.824     3   \n",
       "3  ...          0.000000    0.1050    0.446  109.891         0.501     4   \n",
       "4  ...          0.000070    0.1310    0.129  159.801         0.585     5   \n",
       "\n",
       "        Artist 1       Artist 2       Artist 3 Song Age (Days)  \n",
       "0     The Weeknd  No 2nd artist  No 3rd artist         -1195.0  \n",
       "1     Ed Sheeran  No 2nd artist  No 3rd artist         -2252.0  \n",
       "2    Tones And I  No 2nd artist  No 3rd artist         -1398.0  \n",
       "3  Lewis Capaldi  No 2nd artist  No 3rd artist         -1581.0  \n",
       "4    Post Malone      21 Savage  No 3rd artist         -2000.0  \n",
       "\n",
       "[5 rows x 22 columns]"
      ]
     },
     "execution_count": 10,
     "metadata": {},
     "output_type": "execute_result"
    }
   ],
   "source": [
    "#Cleaned dataset:\n",
    "df.head()"
   ]
  },
  {
   "attachments": {},
   "cell_type": "markdown",
   "metadata": {},
   "source": [
    "### 2. Examining our data:"
   ]
  },
  {
   "cell_type": "code",
   "execution_count": 11,
   "metadata": {},
   "outputs": [
    {
     "data": {
      "text/plain": [
       "Song                          object\n",
       "Artist                        object\n",
       "Streams (Billions)           float64\n",
       "Release Date          datetime64[ns]\n",
       "id                            object\n",
       "duration                     float64\n",
       "energy                       float64\n",
       "key                            int64\n",
       "loudness                     float64\n",
       "mode                           int64\n",
       "speechiness                  float64\n",
       "acousticness                 float64\n",
       "instrumentalness             float64\n",
       "liveness                     float64\n",
       "valence                      float64\n",
       "tempo                        float64\n",
       "danceability                 float64\n",
       "rank                           int64\n",
       "Artist 1                      object\n",
       "Artist 2                      object\n",
       "Artist 3                      object\n",
       "Song Age (Days)              float64\n",
       "dtype: object"
      ]
     },
     "execution_count": 11,
     "metadata": {},
     "output_type": "execute_result"
    }
   ],
   "source": [
    "df.dtypes"
   ]
  },
  {
   "cell_type": "code",
   "execution_count": 12,
   "metadata": {},
   "outputs": [
    {
     "data": {
      "text/plain": [
       "Song                  0\n",
       "Artist                0\n",
       "Streams (Billions)    0\n",
       "Release Date          0\n",
       "id                    0\n",
       "duration              0\n",
       "energy                0\n",
       "key                   0\n",
       "loudness              0\n",
       "mode                  0\n",
       "speechiness           0\n",
       "acousticness          0\n",
       "instrumentalness      0\n",
       "liveness              0\n",
       "valence               0\n",
       "tempo                 0\n",
       "danceability          0\n",
       "rank                  0\n",
       "Artist 1              0\n",
       "Artist 2              0\n",
       "Artist 3              0\n",
       "Song Age (Days)       0\n",
       "dtype: int64"
      ]
     },
     "execution_count": 12,
     "metadata": {},
     "output_type": "execute_result"
    }
   ],
   "source": [
    "df.isnull().sum()"
   ]
  },
  {
   "attachments": {},
   "cell_type": "markdown",
   "metadata": {},
   "source": [
    "No missing data"
   ]
  },
  {
   "cell_type": "code",
   "execution_count": 13,
   "metadata": {},
   "outputs": [
    {
     "data": {
      "text/html": [
       "<div>\n",
       "<style scoped>\n",
       "    .dataframe tbody tr th:only-of-type {\n",
       "        vertical-align: middle;\n",
       "    }\n",
       "\n",
       "    .dataframe tbody tr th {\n",
       "        vertical-align: top;\n",
       "    }\n",
       "\n",
       "    .dataframe thead th {\n",
       "        text-align: right;\n",
       "    }\n",
       "</style>\n",
       "<table border=\"1\" class=\"dataframe\">\n",
       "  <thead>\n",
       "    <tr style=\"text-align: right;\">\n",
       "      <th></th>\n",
       "      <th>Streams (Billions)</th>\n",
       "      <th>duration</th>\n",
       "      <th>energy</th>\n",
       "      <th>key</th>\n",
       "      <th>loudness</th>\n",
       "      <th>mode</th>\n",
       "      <th>speechiness</th>\n",
       "      <th>acousticness</th>\n",
       "      <th>instrumentalness</th>\n",
       "      <th>liveness</th>\n",
       "      <th>valence</th>\n",
       "      <th>tempo</th>\n",
       "      <th>danceability</th>\n",
       "      <th>rank</th>\n",
       "      <th>Song Age (Days)</th>\n",
       "    </tr>\n",
       "  </thead>\n",
       "  <tbody>\n",
       "    <tr>\n",
       "      <th>count</th>\n",
       "      <td>100.000000</td>\n",
       "      <td>100.000000</td>\n",
       "      <td>100.000000</td>\n",
       "      <td>100.000000</td>\n",
       "      <td>100.00000</td>\n",
       "      <td>100.000000</td>\n",
       "      <td>100.000000</td>\n",
       "      <td>100.000000</td>\n",
       "      <td>100.000000</td>\n",
       "      <td>100.000000</td>\n",
       "      <td>100.000000</td>\n",
       "      <td>100.000000</td>\n",
       "      <td>100.000000</td>\n",
       "      <td>100.000000</td>\n",
       "      <td>100.000000</td>\n",
       "    </tr>\n",
       "    <tr>\n",
       "      <th>mean</th>\n",
       "      <td>1.896000</td>\n",
       "      <td>3.635300</td>\n",
       "      <td>0.625500</td>\n",
       "      <td>5.340000</td>\n",
       "      <td>-6.17631</td>\n",
       "      <td>0.650000</td>\n",
       "      <td>0.096448</td>\n",
       "      <td>0.260955</td>\n",
       "      <td>0.007848</td>\n",
       "      <td>0.165682</td>\n",
       "      <td>0.502032</td>\n",
       "      <td>121.253900</td>\n",
       "      <td>0.649630</td>\n",
       "      <td>50.500000</td>\n",
       "      <td>-2857.510000</td>\n",
       "    </tr>\n",
       "    <tr>\n",
       "      <th>std</th>\n",
       "      <td>0.371272</td>\n",
       "      <td>0.807997</td>\n",
       "      <td>0.160045</td>\n",
       "      <td>3.627114</td>\n",
       "      <td>2.00858</td>\n",
       "      <td>0.479372</td>\n",
       "      <td>0.088872</td>\n",
       "      <td>0.272764</td>\n",
       "      <td>0.048977</td>\n",
       "      <td>0.122867</td>\n",
       "      <td>0.224953</td>\n",
       "      <td>29.544364</td>\n",
       "      <td>0.144618</td>\n",
       "      <td>29.011492</td>\n",
       "      <td>2700.837642</td>\n",
       "    </tr>\n",
       "    <tr>\n",
       "      <th>min</th>\n",
       "      <td>1.521000</td>\n",
       "      <td>1.520000</td>\n",
       "      <td>0.185000</td>\n",
       "      <td>0.000000</td>\n",
       "      <td>-12.20500</td>\n",
       "      <td>0.000000</td>\n",
       "      <td>0.028100</td>\n",
       "      <td>0.000025</td>\n",
       "      <td>0.000000</td>\n",
       "      <td>0.034400</td>\n",
       "      <td>0.061200</td>\n",
       "      <td>74.897000</td>\n",
       "      <td>0.340000</td>\n",
       "      <td>1.000000</td>\n",
       "      <td>-17295.000000</td>\n",
       "    </tr>\n",
       "    <tr>\n",
       "      <th>25%</th>\n",
       "      <td>1.647000</td>\n",
       "      <td>3.122500</td>\n",
       "      <td>0.523750</td>\n",
       "      <td>2.000000</td>\n",
       "      <td>-7.10375</td>\n",
       "      <td>0.000000</td>\n",
       "      <td>0.041200</td>\n",
       "      <td>0.026150</td>\n",
       "      <td>0.000000</td>\n",
       "      <td>0.094300</td>\n",
       "      <td>0.340750</td>\n",
       "      <td>98.022000</td>\n",
       "      <td>0.548000</td>\n",
       "      <td>25.750000</td>\n",
       "      <td>-2956.000000</td>\n",
       "    </tr>\n",
       "    <tr>\n",
       "      <th>50%</th>\n",
       "      <td>1.770500</td>\n",
       "      <td>3.505000</td>\n",
       "      <td>0.640000</td>\n",
       "      <td>6.000000</td>\n",
       "      <td>-5.97150</td>\n",
       "      <td>1.000000</td>\n",
       "      <td>0.059400</td>\n",
       "      <td>0.162500</td>\n",
       "      <td>0.000000</td>\n",
       "      <td>0.114000</td>\n",
       "      <td>0.492000</td>\n",
       "      <td>116.864000</td>\n",
       "      <td>0.671500</td>\n",
       "      <td>50.500000</td>\n",
       "      <td>-2200.500000</td>\n",
       "    </tr>\n",
       "    <tr>\n",
       "      <th>75%</th>\n",
       "      <td>2.046000</td>\n",
       "      <td>4.030000</td>\n",
       "      <td>0.741000</td>\n",
       "      <td>8.250000</td>\n",
       "      <td>-4.94075</td>\n",
       "      <td>1.000000</td>\n",
       "      <td>0.106000</td>\n",
       "      <td>0.431500</td>\n",
       "      <td>0.000086</td>\n",
       "      <td>0.217000</td>\n",
       "      <td>0.663000</td>\n",
       "      <td>142.439500</td>\n",
       "      <td>0.759250</td>\n",
       "      <td>75.250000</td>\n",
       "      <td>-1598.000000</td>\n",
       "    </tr>\n",
       "    <tr>\n",
       "      <th>max</th>\n",
       "      <td>3.449000</td>\n",
       "      <td>7.050000</td>\n",
       "      <td>0.912000</td>\n",
       "      <td>11.000000</td>\n",
       "      <td>-2.81000</td>\n",
       "      <td>1.000000</td>\n",
       "      <td>0.438000</td>\n",
       "      <td>0.945000</td>\n",
       "      <td>0.459000</td>\n",
       "      <td>0.790000</td>\n",
       "      <td>0.969000</td>\n",
       "      <td>186.003000</td>\n",
       "      <td>0.921000</td>\n",
       "      <td>100.000000</td>\n",
       "      <td>-341.000000</td>\n",
       "    </tr>\n",
       "  </tbody>\n",
       "</table>\n",
       "</div>"
      ],
      "text/plain": [
       "       Streams (Billions)    duration      energy         key   loudness  \\\n",
       "count          100.000000  100.000000  100.000000  100.000000  100.00000   \n",
       "mean             1.896000    3.635300    0.625500    5.340000   -6.17631   \n",
       "std              0.371272    0.807997    0.160045    3.627114    2.00858   \n",
       "min              1.521000    1.520000    0.185000    0.000000  -12.20500   \n",
       "25%              1.647000    3.122500    0.523750    2.000000   -7.10375   \n",
       "50%              1.770500    3.505000    0.640000    6.000000   -5.97150   \n",
       "75%              2.046000    4.030000    0.741000    8.250000   -4.94075   \n",
       "max              3.449000    7.050000    0.912000   11.000000   -2.81000   \n",
       "\n",
       "             mode  speechiness  acousticness  instrumentalness    liveness  \\\n",
       "count  100.000000   100.000000    100.000000        100.000000  100.000000   \n",
       "mean     0.650000     0.096448      0.260955          0.007848    0.165682   \n",
       "std      0.479372     0.088872      0.272764          0.048977    0.122867   \n",
       "min      0.000000     0.028100      0.000025          0.000000    0.034400   \n",
       "25%      0.000000     0.041200      0.026150          0.000000    0.094300   \n",
       "50%      1.000000     0.059400      0.162500          0.000000    0.114000   \n",
       "75%      1.000000     0.106000      0.431500          0.000086    0.217000   \n",
       "max      1.000000     0.438000      0.945000          0.459000    0.790000   \n",
       "\n",
       "          valence       tempo  danceability        rank  Song Age (Days)  \n",
       "count  100.000000  100.000000    100.000000  100.000000       100.000000  \n",
       "mean     0.502032  121.253900      0.649630   50.500000     -2857.510000  \n",
       "std      0.224953   29.544364      0.144618   29.011492      2700.837642  \n",
       "min      0.061200   74.897000      0.340000    1.000000    -17295.000000  \n",
       "25%      0.340750   98.022000      0.548000   25.750000     -2956.000000  \n",
       "50%      0.492000  116.864000      0.671500   50.500000     -2200.500000  \n",
       "75%      0.663000  142.439500      0.759250   75.250000     -1598.000000  \n",
       "max      0.969000  186.003000      0.921000  100.000000      -341.000000  "
      ]
     },
     "execution_count": 13,
     "metadata": {},
     "output_type": "execute_result"
    }
   ],
   "source": [
    "df.describe()"
   ]
  },
  {
   "attachments": {},
   "cell_type": "markdown",
   "metadata": {},
   "source": [
    "**Some insights:**\n",
    "- 65 songs in the top 100 were written in a major mode\n",
    "- The average song duration was 3 minutes 39 seconds\n",
    "- The average loudness was -6.18 dB\n",
    "- The slowest song had a tempo of around 75 bpm, the fastest 186 bpm\n",
    "- The oldest song in the chart was released 17295 days ago - around 47 years and 4 months\n",
    "- The top 100 songs generated a total of 189.6 billion streams for Spotify"
   ]
  },
  {
   "cell_type": "code",
   "execution_count": 14,
   "metadata": {},
   "outputs": [
    {
     "data": {
      "text/plain": [
       "No 3rd artist    96\n",
       "No 2nd artist    67\n",
       "Justin Bieber     6\n",
       "Ed Sheeran        5\n",
       "Post Malone       5\n",
       "                 ..\n",
       "Juice WRLD        1\n",
       "Oasis             1\n",
       "J. Cole           1\n",
       "Lil Uzi Vert      1\n",
       "MØ                1\n",
       "Length: 91, dtype: int64"
      ]
     },
     "execution_count": 14,
     "metadata": {},
     "output_type": "execute_result"
    }
   ],
   "source": [
    "#WE FIND HOW MANY TIMES EACH ARTIST APPEARED IN THE TOP 100:\n",
    "artists_all = pd.concat([df['Artist 1'],df['Artist 2'],df['Artist 3']])\n",
    "artists_all.value_counts()\n"
   ]
  },
  {
   "attachments": {},
   "cell_type": "markdown",
   "metadata": {},
   "source": [
    "**Some insights:**\n",
    "- 89 different artists made it to the top 100 most streamed songs on Spotify\n",
    "- Justin Bieber topped the number of appearances in the top 100 with 6 songs"
   ]
  },
  {
   "attachments": {},
   "cell_type": "markdown",
   "metadata": {},
   "source": [
    "---"
   ]
  },
  {
   "attachments": {},
   "cell_type": "markdown",
   "metadata": {},
   "source": [
    "# *II. EXPLORATORY ANALYSIS*"
   ]
  },
  {
   "attachments": {},
   "cell_type": "markdown",
   "metadata": {},
   "source": [
    "### Problems Definition:\n",
    "- Who are the top artists by most streams and number of songs?\n",
    "- Is there a 'Recipe' for a top hit, i.e., a particularly popular key+mode combination, tempo range, song duration or loudness?\n",
    "- Are there correlations between streams and audio featuress such as danceability, valence, acousticness,...\n",
    "- Are there correlations between the features?\n"
   ]
  },
  {
   "attachments": {},
   "cell_type": "markdown",
   "metadata": {},
   "source": [
    "### 1. Find top artists"
   ]
  },
  {
   "cell_type": "code",
   "execution_count": 15,
   "metadata": {},
   "outputs": [
    {
     "data": {
      "text/html": [
       "<div>\n",
       "<style scoped>\n",
       "    .dataframe tbody tr th:only-of-type {\n",
       "        vertical-align: middle;\n",
       "    }\n",
       "\n",
       "    .dataframe tbody tr th {\n",
       "        vertical-align: top;\n",
       "    }\n",
       "\n",
       "    .dataframe thead th {\n",
       "        text-align: right;\n",
       "    }\n",
       "</style>\n",
       "<table border=\"1\" class=\"dataframe\">\n",
       "  <thead>\n",
       "    <tr style=\"text-align: right;\">\n",
       "      <th></th>\n",
       "      <th>Artist</th>\n",
       "    </tr>\n",
       "  </thead>\n",
       "  <tbody>\n",
       "    <tr>\n",
       "      <th>66</th>\n",
       "      <td>21 Savage</td>\n",
       "    </tr>\n",
       "    <tr>\n",
       "      <th>50</th>\n",
       "      <td>24kGoldn</td>\n",
       "    </tr>\n",
       "    <tr>\n",
       "      <th>41</th>\n",
       "      <td>Alan Walker</td>\n",
       "    </tr>\n",
       "    <tr>\n",
       "      <th>51</th>\n",
       "      <td>Arctic Monkeys</td>\n",
       "    </tr>\n",
       "    <tr>\n",
       "      <th>23</th>\n",
       "      <td>Ariana Grande</td>\n",
       "    </tr>\n",
       "    <tr>\n",
       "      <th>...</th>\n",
       "      <td>...</td>\n",
       "    </tr>\n",
       "    <tr>\n",
       "      <th>30</th>\n",
       "      <td>Vance Joy</td>\n",
       "    </tr>\n",
       "    <tr>\n",
       "      <th>61</th>\n",
       "      <td>Wiz Khalifa</td>\n",
       "    </tr>\n",
       "    <tr>\n",
       "      <th>68</th>\n",
       "      <td>Wizkid</td>\n",
       "    </tr>\n",
       "    <tr>\n",
       "      <th>20</th>\n",
       "      <td>XXXTentacion</td>\n",
       "    </tr>\n",
       "    <tr>\n",
       "      <th>72</th>\n",
       "      <td>Young Thug</td>\n",
       "    </tr>\n",
       "  </tbody>\n",
       "</table>\n",
       "<p>89 rows × 1 columns</p>\n",
       "</div>"
      ],
      "text/plain": [
       "            Artist\n",
       "66       21 Savage\n",
       "50        24kGoldn\n",
       "41     Alan Walker\n",
       "51  Arctic Monkeys\n",
       "23   Ariana Grande\n",
       "..             ...\n",
       "30       Vance Joy\n",
       "61     Wiz Khalifa\n",
       "68          Wizkid\n",
       "20    XXXTentacion\n",
       "72      Young Thug\n",
       "\n",
       "[89 rows x 1 columns]"
      ]
     },
     "execution_count": 15,
     "metadata": {},
     "output_type": "execute_result"
    }
   ],
   "source": [
    "#CREATE A DATAFRAME WITH DATA FOR INDIVIDUAL ARTISTS:\n",
    "artists = list(artists_all.unique())\n",
    "artists.remove('No 2nd artist')\n",
    "artists.remove('No 3rd artist')\n",
    "\n",
    "artist_df = pd.DataFrame({'Artist': artists})\n",
    "artist_df = artist_df.sort_values('Artist')\n",
    "artist_df"
   ]
  },
  {
   "cell_type": "code",
   "execution_count": 16,
   "metadata": {},
   "outputs": [],
   "source": [
    "#DEFINE FUNCTION TO FIND ALL SONGS BY EACH ARTIST AND CREATE A NEW COLUMN:\n",
    "def find_songs(ar):\n",
    "    songs = ''\n",
    "    for i in df.index:\n",
    "        if songs == '' and (df.loc[i, 'Artist 1']==ar or df.loc[i, 'Artist 2']==ar or df.loc[i, 'Artist 3']==ar):\n",
    "            songs += str(df.loc[i, 'Song']).lstrip().rstrip()\n",
    "        elif songs != '' and (df.loc[i, 'Artist 1']==ar or df.loc[i, 'Artist 2']==ar or df.loc[i, 'Artist 3']==ar):\n",
    "            songs += ', '\n",
    "            songs += str(df.loc[i, 'Song']).lstrip().rstrip()\n",
    "    return songs\n",
    "\n",
    "artist_df['Songs'] = artist_df['Artist'].apply(find_songs)"
   ]
  },
  {
   "cell_type": "code",
   "execution_count": 17,
   "metadata": {},
   "outputs": [],
   "source": [
    "#DEFINE FUNCTION TO FIND RANK OF THE SONGS FOR EACH ARTIST AND CREATE A NEW COLUMN:\n",
    "def find_ranks(ar):\n",
    "    ranks = ''\n",
    "    for i in df.index:\n",
    "        if ranks == '' and (df.loc[i, 'Artist 1']==ar or df.loc[i, 'Artist 2']==ar or df.loc[i, 'Artist 3']==ar):\n",
    "            ranks += str(df.loc[i, 'rank'])\n",
    "        elif ranks != '' and (df.loc[i, 'Artist 1']==ar or df.loc[i, 'Artist 2']==ar or df.loc[i, 'Artist 3']==ar):\n",
    "            ranks += ', '\n",
    "            ranks += str(df.loc[i, 'rank'])\n",
    "    return ranks\n",
    "\n",
    "artist_df['Songs Chart Positions'] = artist_df['Artist'].apply(find_ranks)"
   ]
  },
  {
   "cell_type": "code",
   "execution_count": 18,
   "metadata": {},
   "outputs": [],
   "source": [
    "#DEFINE FUNCTION TO CALCULATE NUMBER OF SONGS FOR EACH ARTIST AND CREATE A NEW COLUMN:\n",
    "def total_songs(ar):\n",
    "    total = 0\n",
    "    for i in df.index:\n",
    "        if df.loc[i, 'Artist 1']==ar or df.loc[i, 'Artist 2']==ar or df.loc[i, 'Artist 3']==ar:\n",
    "            total += 1\n",
    "    return total\n",
    "\n",
    "artist_df['Number of Songs'] = artist_df[\"Artist\"].apply(total_songs)"
   ]
  },
  {
   "cell_type": "code",
   "execution_count": 19,
   "metadata": {},
   "outputs": [],
   "source": [
    "#DEFINE FUNCTION TO CALCULATE TOTAL STREAMS FOR EACH ARTIST AND CREATE A NEW COLUMN:\n",
    "def calculate_total_streams(ar):\n",
    "    total = 0\n",
    "    for i in df.index:\n",
    "        if df.loc[i, 'Artist 1']==ar or df.loc[i, 'Artist 2']==ar or df.loc[i, 'Artist 3']==ar:\n",
    "            total += df.loc[i,'Streams (Billions)']\n",
    "    return total\n",
    "\n",
    "artist_df['Total Streams from Songs (Billions)'] = artist_df['Artist'].apply(calculate_total_streams)"
   ]
  },
  {
   "cell_type": "code",
   "execution_count": 20,
   "metadata": {},
   "outputs": [
    {
     "data": {
      "text/html": [
       "<div>\n",
       "<style scoped>\n",
       "    .dataframe tbody tr th:only-of-type {\n",
       "        vertical-align: middle;\n",
       "    }\n",
       "\n",
       "    .dataframe tbody tr th {\n",
       "        vertical-align: top;\n",
       "    }\n",
       "\n",
       "    .dataframe thead th {\n",
       "        text-align: right;\n",
       "    }\n",
       "</style>\n",
       "<table border=\"1\" class=\"dataframe\">\n",
       "  <thead>\n",
       "    <tr style=\"text-align: right;\">\n",
       "      <th></th>\n",
       "      <th>Artist</th>\n",
       "      <th>Songs</th>\n",
       "      <th>Songs Chart Positions</th>\n",
       "      <th>Number of Songs</th>\n",
       "      <th>Total Streams from Songs (Billions)</th>\n",
       "    </tr>\n",
       "  </thead>\n",
       "  <tbody>\n",
       "    <tr>\n",
       "      <th>66</th>\n",
       "      <td>21 Savage</td>\n",
       "      <td>Rockstar</td>\n",
       "      <td>5</td>\n",
       "      <td>1</td>\n",
       "      <td>2.620</td>\n",
       "    </tr>\n",
       "    <tr>\n",
       "      <th>50</th>\n",
       "      <td>24kGoldn</td>\n",
       "      <td>Mood</td>\n",
       "      <td>78</td>\n",
       "      <td>1</td>\n",
       "      <td>1.628</td>\n",
       "    </tr>\n",
       "    <tr>\n",
       "      <th>41</th>\n",
       "      <td>Alan Walker</td>\n",
       "      <td>Faded</td>\n",
       "      <td>62</td>\n",
       "      <td>1</td>\n",
       "      <td>1.699</td>\n",
       "    </tr>\n",
       "    <tr>\n",
       "      <th>51</th>\n",
       "      <td>Arctic Monkeys</td>\n",
       "      <td>Do I Wanna Know?</td>\n",
       "      <td>79</td>\n",
       "      <td>1</td>\n",
       "      <td>1.627</td>\n",
       "    </tr>\n",
       "    <tr>\n",
       "      <th>23</th>\n",
       "      <td>Ariana Grande</td>\n",
       "      <td>7 Rings, Thank U, Next</td>\n",
       "      <td>35, 74</td>\n",
       "      <td>2</td>\n",
       "      <td>3.576</td>\n",
       "    </tr>\n",
       "  </tbody>\n",
       "</table>\n",
       "</div>"
      ],
      "text/plain": [
       "            Artist                   Songs Songs Chart Positions  \\\n",
       "66       21 Savage                Rockstar                     5   \n",
       "50        24kGoldn                    Mood                    78   \n",
       "41     Alan Walker                   Faded                    62   \n",
       "51  Arctic Monkeys        Do I Wanna Know?                    79   \n",
       "23   Ariana Grande  7 Rings, Thank U, Next                35, 74   \n",
       "\n",
       "    Number of Songs  Total Streams from Songs (Billions)  \n",
       "66                1                                2.620  \n",
       "50                1                                1.628  \n",
       "41                1                                1.699  \n",
       "51                1                                1.627  \n",
       "23                2                                3.576  "
      ]
     },
     "execution_count": 20,
     "metadata": {},
     "output_type": "execute_result"
    }
   ],
   "source": [
    "#COMPLETED ARTIST DATAFRAME WITH RELEVANT STATS\n",
    "artist_df.head()"
   ]
  },
  {
   "attachments": {},
   "cell_type": "markdown",
   "metadata": {},
   "source": [
    "**We can now find each artist and stats for their songs in the top 100. For example, was Coldplay in the chart, what songs specifically, and how many streams did these songs gather?**"
   ]
  },
  {
   "cell_type": "code",
   "execution_count": 21,
   "metadata": {},
   "outputs": [
    {
     "name": "stdout",
     "output_type": "stream",
     "text": [
      "Songs                                  Something Just Like This, Yellow\n",
      "Songs Chart Positions                                            25, 97\n",
      "Number of Songs                                                       2\n",
      "Total Streams from Songs (Billions)                               3.588\n",
      "Name: Coldplay, dtype: object\n"
     ]
    }
   ],
   "source": [
    "index_df = artist_df.set_index('Artist')\n",
    "print(index_df.loc['Coldplay'])"
   ]
  },
  {
   "attachments": {},
   "cell_type": "markdown",
   "metadata": {},
   "source": [
    "**Which songs in the top 100 were accredited to Justin Bieber?**"
   ]
  },
  {
   "cell_type": "code",
   "execution_count": 22,
   "metadata": {},
   "outputs": [
    {
     "name": "stdout",
     "output_type": "stream",
     "text": [
      "Stay, Love Yourself, Sorry, Let Me Love You, I Don't Care, Despacito (remix)\n"
     ]
    }
   ],
   "source": [
    "print(index_df.loc['Justin Bieber','Songs'])"
   ]
  },
  {
   "attachments": {},
   "cell_type": "markdown",
   "metadata": {},
   "source": [
    "**We can now determine the top artists by most streams and by most number of songs in the top 100:**"
   ]
  },
  {
   "cell_type": "code",
   "execution_count": 23,
   "metadata": {},
   "outputs": [
    {
     "data": {
      "text/html": [
       "<div>\n",
       "<style scoped>\n",
       "    .dataframe tbody tr th:only-of-type {\n",
       "        vertical-align: middle;\n",
       "    }\n",
       "\n",
       "    .dataframe tbody tr th {\n",
       "        vertical-align: top;\n",
       "    }\n",
       "\n",
       "    .dataframe thead th {\n",
       "        text-align: right;\n",
       "    }\n",
       "</style>\n",
       "<table border=\"1\" class=\"dataframe\">\n",
       "  <thead>\n",
       "    <tr style=\"text-align: right;\">\n",
       "      <th></th>\n",
       "      <th>Artist</th>\n",
       "      <th>Songs</th>\n",
       "      <th>Songs Chart Positions</th>\n",
       "      <th>Number of Songs</th>\n",
       "      <th>Total Streams from Songs (Billions)</th>\n",
       "    </tr>\n",
       "  </thead>\n",
       "  <tbody>\n",
       "    <tr>\n",
       "      <th>84</th>\n",
       "      <td>Dua Lipa</td>\n",
       "      <td>Don't Start Now, New Rules, One Kiss, Levitating</td>\n",
       "      <td>19, 42, 53, 71</td>\n",
       "      <td>4</td>\n",
       "      <td>7.416</td>\n",
       "    </tr>\n",
       "    <tr>\n",
       "      <th>85</th>\n",
       "      <td>The Weeknd</td>\n",
       "      <td>Blinding Lights, Starboy, The Hills</td>\n",
       "      <td>1, 15, 48</td>\n",
       "      <td>3</td>\n",
       "      <td>7.509</td>\n",
       "    </tr>\n",
       "    <tr>\n",
       "      <th>86</th>\n",
       "      <td>Post Malone</td>\n",
       "      <td>Rockstar, Sunflower, Circles, Better Now, Cong...</td>\n",
       "      <td>5, 6, 30, 59, 61</td>\n",
       "      <td>5</td>\n",
       "      <td>10.598</td>\n",
       "    </tr>\n",
       "    <tr>\n",
       "      <th>87</th>\n",
       "      <td>Justin Bieber</td>\n",
       "      <td>Stay, Love Yourself, Sorry, Let Me Love You, I...</td>\n",
       "      <td>9, 29, 52, 54, 75, 82</td>\n",
       "      <td>6</td>\n",
       "      <td>11.190</td>\n",
       "    </tr>\n",
       "    <tr>\n",
       "      <th>88</th>\n",
       "      <td>Ed Sheeran</td>\n",
       "      <td>Shape of You, Perfect, Thinking Out Loud, Phot...</td>\n",
       "      <td>2, 12, 17, 23, 75</td>\n",
       "      <td>5</td>\n",
       "      <td>11.682</td>\n",
       "    </tr>\n",
       "  </tbody>\n",
       "</table>\n",
       "</div>"
      ],
      "text/plain": [
       "           Artist                                              Songs  \\\n",
       "84       Dua Lipa   Don't Start Now, New Rules, One Kiss, Levitating   \n",
       "85     The Weeknd                Blinding Lights, Starboy, The Hills   \n",
       "86    Post Malone  Rockstar, Sunflower, Circles, Better Now, Cong...   \n",
       "87  Justin Bieber  Stay, Love Yourself, Sorry, Let Me Love You, I...   \n",
       "88     Ed Sheeran  Shape of You, Perfect, Thinking Out Loud, Phot...   \n",
       "\n",
       "    Songs Chart Positions  Number of Songs  \\\n",
       "84         19, 42, 53, 71                4   \n",
       "85              1, 15, 48                3   \n",
       "86       5, 6, 30, 59, 61                5   \n",
       "87  9, 29, 52, 54, 75, 82                6   \n",
       "88      2, 12, 17, 23, 75                5   \n",
       "\n",
       "    Total Streams from Songs (Billions)  \n",
       "84                                7.416  \n",
       "85                                7.509  \n",
       "86                               10.598  \n",
       "87                               11.190  \n",
       "88                               11.682  "
      ]
     },
     "execution_count": 23,
     "metadata": {},
     "output_type": "execute_result"
    }
   ],
   "source": [
    "#SORT artist_df BY TOTAL STREAMS:\n",
    "streams = artist_df.sort_values('Total Streams from Songs (Billions)').reset_index()\n",
    "streams = streams.drop('index',axis=1)\n",
    "streams.tail()"
   ]
  },
  {
   "cell_type": "code",
   "execution_count": 24,
   "metadata": {},
   "outputs": [
    {
     "data": {
      "application/vnd.plotly.v1+json": {
       "config": {
        "plotlyServerURL": "https://plot.ly"
       },
       "data": [
        {
         "marker": {
          "color": "Orange"
         },
         "orientation": "h",
         "type": "bar",
         "x": [
          5.492000000000001,
          6.015000000000001,
          6.2059999999999995,
          6.476000000000001,
          7.228,
          7.416,
          7.509,
          10.597999999999999,
          11.190000000000001,
          11.682
         ],
         "y": [
          "XXXTentacion",
          "Imagine Dragons",
          "The Chainsmokers",
          "Drake",
          "Shawn Mendes",
          "Dua Lipa",
          "The Weeknd",
          "Post Malone",
          "Justin Bieber",
          "Ed Sheeran"
         ]
        }
       ],
       "layout": {
        "autosize": false,
        "height": 500,
        "template": {
         "data": {
          "bar": [
           {
            "error_x": {
             "color": "#2a3f5f"
            },
            "error_y": {
             "color": "#2a3f5f"
            },
            "marker": {
             "line": {
              "color": "#E5ECF6",
              "width": 0.5
             },
             "pattern": {
              "fillmode": "overlay",
              "size": 10,
              "solidity": 0.2
             }
            },
            "type": "bar"
           }
          ],
          "barpolar": [
           {
            "marker": {
             "line": {
              "color": "#E5ECF6",
              "width": 0.5
             },
             "pattern": {
              "fillmode": "overlay",
              "size": 10,
              "solidity": 0.2
             }
            },
            "type": "barpolar"
           }
          ],
          "carpet": [
           {
            "aaxis": {
             "endlinecolor": "#2a3f5f",
             "gridcolor": "white",
             "linecolor": "white",
             "minorgridcolor": "white",
             "startlinecolor": "#2a3f5f"
            },
            "baxis": {
             "endlinecolor": "#2a3f5f",
             "gridcolor": "white",
             "linecolor": "white",
             "minorgridcolor": "white",
             "startlinecolor": "#2a3f5f"
            },
            "type": "carpet"
           }
          ],
          "choropleth": [
           {
            "colorbar": {
             "outlinewidth": 0,
             "ticks": ""
            },
            "type": "choropleth"
           }
          ],
          "contour": [
           {
            "colorbar": {
             "outlinewidth": 0,
             "ticks": ""
            },
            "colorscale": [
             [
              0,
              "#0d0887"
             ],
             [
              0.1111111111111111,
              "#46039f"
             ],
             [
              0.2222222222222222,
              "#7201a8"
             ],
             [
              0.3333333333333333,
              "#9c179e"
             ],
             [
              0.4444444444444444,
              "#bd3786"
             ],
             [
              0.5555555555555556,
              "#d8576b"
             ],
             [
              0.6666666666666666,
              "#ed7953"
             ],
             [
              0.7777777777777778,
              "#fb9f3a"
             ],
             [
              0.8888888888888888,
              "#fdca26"
             ],
             [
              1,
              "#f0f921"
             ]
            ],
            "type": "contour"
           }
          ],
          "contourcarpet": [
           {
            "colorbar": {
             "outlinewidth": 0,
             "ticks": ""
            },
            "type": "contourcarpet"
           }
          ],
          "heatmap": [
           {
            "colorbar": {
             "outlinewidth": 0,
             "ticks": ""
            },
            "colorscale": [
             [
              0,
              "#0d0887"
             ],
             [
              0.1111111111111111,
              "#46039f"
             ],
             [
              0.2222222222222222,
              "#7201a8"
             ],
             [
              0.3333333333333333,
              "#9c179e"
             ],
             [
              0.4444444444444444,
              "#bd3786"
             ],
             [
              0.5555555555555556,
              "#d8576b"
             ],
             [
              0.6666666666666666,
              "#ed7953"
             ],
             [
              0.7777777777777778,
              "#fb9f3a"
             ],
             [
              0.8888888888888888,
              "#fdca26"
             ],
             [
              1,
              "#f0f921"
             ]
            ],
            "type": "heatmap"
           }
          ],
          "heatmapgl": [
           {
            "colorbar": {
             "outlinewidth": 0,
             "ticks": ""
            },
            "colorscale": [
             [
              0,
              "#0d0887"
             ],
             [
              0.1111111111111111,
              "#46039f"
             ],
             [
              0.2222222222222222,
              "#7201a8"
             ],
             [
              0.3333333333333333,
              "#9c179e"
             ],
             [
              0.4444444444444444,
              "#bd3786"
             ],
             [
              0.5555555555555556,
              "#d8576b"
             ],
             [
              0.6666666666666666,
              "#ed7953"
             ],
             [
              0.7777777777777778,
              "#fb9f3a"
             ],
             [
              0.8888888888888888,
              "#fdca26"
             ],
             [
              1,
              "#f0f921"
             ]
            ],
            "type": "heatmapgl"
           }
          ],
          "histogram": [
           {
            "marker": {
             "pattern": {
              "fillmode": "overlay",
              "size": 10,
              "solidity": 0.2
             }
            },
            "type": "histogram"
           }
          ],
          "histogram2d": [
           {
            "colorbar": {
             "outlinewidth": 0,
             "ticks": ""
            },
            "colorscale": [
             [
              0,
              "#0d0887"
             ],
             [
              0.1111111111111111,
              "#46039f"
             ],
             [
              0.2222222222222222,
              "#7201a8"
             ],
             [
              0.3333333333333333,
              "#9c179e"
             ],
             [
              0.4444444444444444,
              "#bd3786"
             ],
             [
              0.5555555555555556,
              "#d8576b"
             ],
             [
              0.6666666666666666,
              "#ed7953"
             ],
             [
              0.7777777777777778,
              "#fb9f3a"
             ],
             [
              0.8888888888888888,
              "#fdca26"
             ],
             [
              1,
              "#f0f921"
             ]
            ],
            "type": "histogram2d"
           }
          ],
          "histogram2dcontour": [
           {
            "colorbar": {
             "outlinewidth": 0,
             "ticks": ""
            },
            "colorscale": [
             [
              0,
              "#0d0887"
             ],
             [
              0.1111111111111111,
              "#46039f"
             ],
             [
              0.2222222222222222,
              "#7201a8"
             ],
             [
              0.3333333333333333,
              "#9c179e"
             ],
             [
              0.4444444444444444,
              "#bd3786"
             ],
             [
              0.5555555555555556,
              "#d8576b"
             ],
             [
              0.6666666666666666,
              "#ed7953"
             ],
             [
              0.7777777777777778,
              "#fb9f3a"
             ],
             [
              0.8888888888888888,
              "#fdca26"
             ],
             [
              1,
              "#f0f921"
             ]
            ],
            "type": "histogram2dcontour"
           }
          ],
          "mesh3d": [
           {
            "colorbar": {
             "outlinewidth": 0,
             "ticks": ""
            },
            "type": "mesh3d"
           }
          ],
          "parcoords": [
           {
            "line": {
             "colorbar": {
              "outlinewidth": 0,
              "ticks": ""
             }
            },
            "type": "parcoords"
           }
          ],
          "pie": [
           {
            "automargin": true,
            "type": "pie"
           }
          ],
          "scatter": [
           {
            "fillpattern": {
             "fillmode": "overlay",
             "size": 10,
             "solidity": 0.2
            },
            "type": "scatter"
           }
          ],
          "scatter3d": [
           {
            "line": {
             "colorbar": {
              "outlinewidth": 0,
              "ticks": ""
             }
            },
            "marker": {
             "colorbar": {
              "outlinewidth": 0,
              "ticks": ""
             }
            },
            "type": "scatter3d"
           }
          ],
          "scattercarpet": [
           {
            "marker": {
             "colorbar": {
              "outlinewidth": 0,
              "ticks": ""
             }
            },
            "type": "scattercarpet"
           }
          ],
          "scattergeo": [
           {
            "marker": {
             "colorbar": {
              "outlinewidth": 0,
              "ticks": ""
             }
            },
            "type": "scattergeo"
           }
          ],
          "scattergl": [
           {
            "marker": {
             "colorbar": {
              "outlinewidth": 0,
              "ticks": ""
             }
            },
            "type": "scattergl"
           }
          ],
          "scattermapbox": [
           {
            "marker": {
             "colorbar": {
              "outlinewidth": 0,
              "ticks": ""
             }
            },
            "type": "scattermapbox"
           }
          ],
          "scatterpolar": [
           {
            "marker": {
             "colorbar": {
              "outlinewidth": 0,
              "ticks": ""
             }
            },
            "type": "scatterpolar"
           }
          ],
          "scatterpolargl": [
           {
            "marker": {
             "colorbar": {
              "outlinewidth": 0,
              "ticks": ""
             }
            },
            "type": "scatterpolargl"
           }
          ],
          "scatterternary": [
           {
            "marker": {
             "colorbar": {
              "outlinewidth": 0,
              "ticks": ""
             }
            },
            "type": "scatterternary"
           }
          ],
          "surface": [
           {
            "colorbar": {
             "outlinewidth": 0,
             "ticks": ""
            },
            "colorscale": [
             [
              0,
              "#0d0887"
             ],
             [
              0.1111111111111111,
              "#46039f"
             ],
             [
              0.2222222222222222,
              "#7201a8"
             ],
             [
              0.3333333333333333,
              "#9c179e"
             ],
             [
              0.4444444444444444,
              "#bd3786"
             ],
             [
              0.5555555555555556,
              "#d8576b"
             ],
             [
              0.6666666666666666,
              "#ed7953"
             ],
             [
              0.7777777777777778,
              "#fb9f3a"
             ],
             [
              0.8888888888888888,
              "#fdca26"
             ],
             [
              1,
              "#f0f921"
             ]
            ],
            "type": "surface"
           }
          ],
          "table": [
           {
            "cells": {
             "fill": {
              "color": "#EBF0F8"
             },
             "line": {
              "color": "white"
             }
            },
            "header": {
             "fill": {
              "color": "#C8D4E3"
             },
             "line": {
              "color": "white"
             }
            },
            "type": "table"
           }
          ]
         },
         "layout": {
          "annotationdefaults": {
           "arrowcolor": "#2a3f5f",
           "arrowhead": 0,
           "arrowwidth": 1
          },
          "autotypenumbers": "strict",
          "coloraxis": {
           "colorbar": {
            "outlinewidth": 0,
            "ticks": ""
           }
          },
          "colorscale": {
           "diverging": [
            [
             0,
             "#8e0152"
            ],
            [
             0.1,
             "#c51b7d"
            ],
            [
             0.2,
             "#de77ae"
            ],
            [
             0.3,
             "#f1b6da"
            ],
            [
             0.4,
             "#fde0ef"
            ],
            [
             0.5,
             "#f7f7f7"
            ],
            [
             0.6,
             "#e6f5d0"
            ],
            [
             0.7,
             "#b8e186"
            ],
            [
             0.8,
             "#7fbc41"
            ],
            [
             0.9,
             "#4d9221"
            ],
            [
             1,
             "#276419"
            ]
           ],
           "sequential": [
            [
             0,
             "#0d0887"
            ],
            [
             0.1111111111111111,
             "#46039f"
            ],
            [
             0.2222222222222222,
             "#7201a8"
            ],
            [
             0.3333333333333333,
             "#9c179e"
            ],
            [
             0.4444444444444444,
             "#bd3786"
            ],
            [
             0.5555555555555556,
             "#d8576b"
            ],
            [
             0.6666666666666666,
             "#ed7953"
            ],
            [
             0.7777777777777778,
             "#fb9f3a"
            ],
            [
             0.8888888888888888,
             "#fdca26"
            ],
            [
             1,
             "#f0f921"
            ]
           ],
           "sequentialminus": [
            [
             0,
             "#0d0887"
            ],
            [
             0.1111111111111111,
             "#46039f"
            ],
            [
             0.2222222222222222,
             "#7201a8"
            ],
            [
             0.3333333333333333,
             "#9c179e"
            ],
            [
             0.4444444444444444,
             "#bd3786"
            ],
            [
             0.5555555555555556,
             "#d8576b"
            ],
            [
             0.6666666666666666,
             "#ed7953"
            ],
            [
             0.7777777777777778,
             "#fb9f3a"
            ],
            [
             0.8888888888888888,
             "#fdca26"
            ],
            [
             1,
             "#f0f921"
            ]
           ]
          },
          "colorway": [
           "#636efa",
           "#EF553B",
           "#00cc96",
           "#ab63fa",
           "#FFA15A",
           "#19d3f3",
           "#FF6692",
           "#B6E880",
           "#FF97FF",
           "#FECB52"
          ],
          "font": {
           "color": "#2a3f5f"
          },
          "geo": {
           "bgcolor": "white",
           "lakecolor": "white",
           "landcolor": "#E5ECF6",
           "showlakes": true,
           "showland": true,
           "subunitcolor": "white"
          },
          "hoverlabel": {
           "align": "left"
          },
          "hovermode": "closest",
          "mapbox": {
           "style": "light"
          },
          "paper_bgcolor": "white",
          "plot_bgcolor": "#E5ECF6",
          "polar": {
           "angularaxis": {
            "gridcolor": "white",
            "linecolor": "white",
            "ticks": ""
           },
           "bgcolor": "#E5ECF6",
           "radialaxis": {
            "gridcolor": "white",
            "linecolor": "white",
            "ticks": ""
           }
          },
          "scene": {
           "xaxis": {
            "backgroundcolor": "#E5ECF6",
            "gridcolor": "white",
            "gridwidth": 2,
            "linecolor": "white",
            "showbackground": true,
            "ticks": "",
            "zerolinecolor": "white"
           },
           "yaxis": {
            "backgroundcolor": "#E5ECF6",
            "gridcolor": "white",
            "gridwidth": 2,
            "linecolor": "white",
            "showbackground": true,
            "ticks": "",
            "zerolinecolor": "white"
           },
           "zaxis": {
            "backgroundcolor": "#E5ECF6",
            "gridcolor": "white",
            "gridwidth": 2,
            "linecolor": "white",
            "showbackground": true,
            "ticks": "",
            "zerolinecolor": "white"
           }
          },
          "shapedefaults": {
           "line": {
            "color": "#2a3f5f"
           }
          },
          "ternary": {
           "aaxis": {
            "gridcolor": "white",
            "linecolor": "white",
            "ticks": ""
           },
           "baxis": {
            "gridcolor": "white",
            "linecolor": "white",
            "ticks": ""
           },
           "bgcolor": "#E5ECF6",
           "caxis": {
            "gridcolor": "white",
            "linecolor": "white",
            "ticks": ""
           }
          },
          "title": {
           "x": 0.05
          },
          "xaxis": {
           "automargin": true,
           "gridcolor": "white",
           "linecolor": "white",
           "ticks": "",
           "title": {
            "standoff": 15
           },
           "zerolinecolor": "white",
           "zerolinewidth": 2
          },
          "yaxis": {
           "automargin": true,
           "gridcolor": "white",
           "linecolor": "white",
           "ticks": "",
           "title": {
            "standoff": 15
           },
           "zerolinecolor": "white",
           "zerolinewidth": 2
          }
         }
        },
        "title": {
         "text": "Top 10 Artists by Total Streams from their Songs in the Top 100"
        },
        "width": 1200,
        "xaxis": {
         "title": {
          "text": "Streams (Billions)"
         }
        },
        "yaxis": {
         "title": {
          "text": "Artist"
         }
        }
       }
      }
     },
     "metadata": {},
     "output_type": "display_data"
    }
   ],
   "source": [
    "#PLOTTING TOP 10 ARTISTS BY TOTAL STREAMS\n",
    "fig1 = go.Figure()\n",
    "fig1.add_trace(go.Bar(x=streams.tail(10)['Total Streams from Songs (Billions)'],\n",
    "                      y=streams.tail(10)['Artist'],\n",
    "                      orientation='h',\n",
    "                      marker=dict(color='Orange')))\n",
    "fig1.update_layout(autosize=False, width=1200, height=500,\n",
    "                   title=\"Top 10 Artists by Total Streams from their Songs in the Top 100\",\n",
    "                   xaxis_title=\"Streams (Billions)\",\n",
    "                   yaxis_title=\"Artist\",)\n",
    "fig1.show()"
   ]
  },
  {
   "cell_type": "code",
   "execution_count": 25,
   "metadata": {},
   "outputs": [
    {
     "data": {
      "text/html": [
       "<div>\n",
       "<style scoped>\n",
       "    .dataframe tbody tr th:only-of-type {\n",
       "        vertical-align: middle;\n",
       "    }\n",
       "\n",
       "    .dataframe tbody tr th {\n",
       "        vertical-align: top;\n",
       "    }\n",
       "\n",
       "    .dataframe thead th {\n",
       "        text-align: right;\n",
       "    }\n",
       "</style>\n",
       "<table border=\"1\" class=\"dataframe\">\n",
       "  <thead>\n",
       "    <tr style=\"text-align: right;\">\n",
       "      <th></th>\n",
       "      <th>Artist</th>\n",
       "      <th>Songs</th>\n",
       "      <th>Songs Chart Positions</th>\n",
       "      <th>Number of Songs</th>\n",
       "      <th>Total Streams from Songs (Billions)</th>\n",
       "    </tr>\n",
       "  </thead>\n",
       "  <tbody>\n",
       "    <tr>\n",
       "      <th>0</th>\n",
       "      <td>Justin Bieber</td>\n",
       "      <td>Stay, Love Yourself, Sorry, Let Me Love You, I...</td>\n",
       "      <td>9, 29, 52, 54, 75, 82</td>\n",
       "      <td>6</td>\n",
       "      <td>11.190</td>\n",
       "    </tr>\n",
       "    <tr>\n",
       "      <th>1</th>\n",
       "      <td>Ed Sheeran</td>\n",
       "      <td>Shape of You, Perfect, Thinking Out Loud, Phot...</td>\n",
       "      <td>2, 12, 17, 23, 75</td>\n",
       "      <td>5</td>\n",
       "      <td>11.682</td>\n",
       "    </tr>\n",
       "    <tr>\n",
       "      <th>2</th>\n",
       "      <td>Post Malone</td>\n",
       "      <td>Rockstar, Sunflower, Circles, Better Now, Cong...</td>\n",
       "      <td>5, 6, 30, 59, 61</td>\n",
       "      <td>5</td>\n",
       "      <td>10.598</td>\n",
       "    </tr>\n",
       "    <tr>\n",
       "      <th>3</th>\n",
       "      <td>Dua Lipa</td>\n",
       "      <td>Don't Start Now, New Rules, One Kiss, Levitating</td>\n",
       "      <td>19, 42, 53, 71</td>\n",
       "      <td>4</td>\n",
       "      <td>7.416</td>\n",
       "    </tr>\n",
       "    <tr>\n",
       "      <th>4</th>\n",
       "      <td>Shawn Mendes</td>\n",
       "      <td>Señorita, Treat You Better, There's Nothing Ho...</td>\n",
       "      <td>11, 57, 89, 90</td>\n",
       "      <td>4</td>\n",
       "      <td>7.228</td>\n",
       "    </tr>\n",
       "  </tbody>\n",
       "</table>\n",
       "</div>"
      ],
      "text/plain": [
       "          Artist                                              Songs  \\\n",
       "0  Justin Bieber  Stay, Love Yourself, Sorry, Let Me Love You, I...   \n",
       "1     Ed Sheeran  Shape of You, Perfect, Thinking Out Loud, Phot...   \n",
       "2    Post Malone  Rockstar, Sunflower, Circles, Better Now, Cong...   \n",
       "3       Dua Lipa   Don't Start Now, New Rules, One Kiss, Levitating   \n",
       "4   Shawn Mendes  Señorita, Treat You Better, There's Nothing Ho...   \n",
       "\n",
       "   Songs Chart Positions  Number of Songs  Total Streams from Songs (Billions)  \n",
       "0  9, 29, 52, 54, 75, 82                6                               11.190  \n",
       "1      2, 12, 17, 23, 75                5                               11.682  \n",
       "2       5, 6, 30, 59, 61                5                               10.598  \n",
       "3         19, 42, 53, 71                4                                7.416  \n",
       "4         11, 57, 89, 90                4                                7.228  "
      ]
     },
     "execution_count": 25,
     "metadata": {},
     "output_type": "execute_result"
    }
   ],
   "source": [
    "#SORT artist_df BY SONG COUNT FIRST:\n",
    "count = artist_df.sort_values(['Number of Songs','Total Streams from Songs (Billions)'],ascending=False).reset_index()\n",
    "count = count.drop('index',axis=1)\n",
    "count.head()"
   ]
  },
  {
   "cell_type": "code",
   "execution_count": 26,
   "metadata": {},
   "outputs": [
    {
     "data": {
      "application/vnd.plotly.v1+json": {
       "config": {
        "plotlyServerURL": "https://plot.ly"
       },
       "data": [
        {
         "marker": {
          "color": "Turquoise"
         },
         "type": "bar",
         "x": [
          "Justin Bieber",
          "Ed Sheeran",
          "Post Malone",
          "Dua Lipa",
          "Shawn Mendes",
          "The Weeknd",
          "Drake",
          "The Chainsmokers",
          "Imagine Dragons",
          "XXXTentacion"
         ],
         "y": [
          6,
          5,
          5,
          4,
          4,
          3,
          3,
          3,
          3,
          3
         ]
        }
       ],
       "layout": {
        "autosize": false,
        "height": 500,
        "template": {
         "data": {
          "bar": [
           {
            "error_x": {
             "color": "#2a3f5f"
            },
            "error_y": {
             "color": "#2a3f5f"
            },
            "marker": {
             "line": {
              "color": "#E5ECF6",
              "width": 0.5
             },
             "pattern": {
              "fillmode": "overlay",
              "size": 10,
              "solidity": 0.2
             }
            },
            "type": "bar"
           }
          ],
          "barpolar": [
           {
            "marker": {
             "line": {
              "color": "#E5ECF6",
              "width": 0.5
             },
             "pattern": {
              "fillmode": "overlay",
              "size": 10,
              "solidity": 0.2
             }
            },
            "type": "barpolar"
           }
          ],
          "carpet": [
           {
            "aaxis": {
             "endlinecolor": "#2a3f5f",
             "gridcolor": "white",
             "linecolor": "white",
             "minorgridcolor": "white",
             "startlinecolor": "#2a3f5f"
            },
            "baxis": {
             "endlinecolor": "#2a3f5f",
             "gridcolor": "white",
             "linecolor": "white",
             "minorgridcolor": "white",
             "startlinecolor": "#2a3f5f"
            },
            "type": "carpet"
           }
          ],
          "choropleth": [
           {
            "colorbar": {
             "outlinewidth": 0,
             "ticks": ""
            },
            "type": "choropleth"
           }
          ],
          "contour": [
           {
            "colorbar": {
             "outlinewidth": 0,
             "ticks": ""
            },
            "colorscale": [
             [
              0,
              "#0d0887"
             ],
             [
              0.1111111111111111,
              "#46039f"
             ],
             [
              0.2222222222222222,
              "#7201a8"
             ],
             [
              0.3333333333333333,
              "#9c179e"
             ],
             [
              0.4444444444444444,
              "#bd3786"
             ],
             [
              0.5555555555555556,
              "#d8576b"
             ],
             [
              0.6666666666666666,
              "#ed7953"
             ],
             [
              0.7777777777777778,
              "#fb9f3a"
             ],
             [
              0.8888888888888888,
              "#fdca26"
             ],
             [
              1,
              "#f0f921"
             ]
            ],
            "type": "contour"
           }
          ],
          "contourcarpet": [
           {
            "colorbar": {
             "outlinewidth": 0,
             "ticks": ""
            },
            "type": "contourcarpet"
           }
          ],
          "heatmap": [
           {
            "colorbar": {
             "outlinewidth": 0,
             "ticks": ""
            },
            "colorscale": [
             [
              0,
              "#0d0887"
             ],
             [
              0.1111111111111111,
              "#46039f"
             ],
             [
              0.2222222222222222,
              "#7201a8"
             ],
             [
              0.3333333333333333,
              "#9c179e"
             ],
             [
              0.4444444444444444,
              "#bd3786"
             ],
             [
              0.5555555555555556,
              "#d8576b"
             ],
             [
              0.6666666666666666,
              "#ed7953"
             ],
             [
              0.7777777777777778,
              "#fb9f3a"
             ],
             [
              0.8888888888888888,
              "#fdca26"
             ],
             [
              1,
              "#f0f921"
             ]
            ],
            "type": "heatmap"
           }
          ],
          "heatmapgl": [
           {
            "colorbar": {
             "outlinewidth": 0,
             "ticks": ""
            },
            "colorscale": [
             [
              0,
              "#0d0887"
             ],
             [
              0.1111111111111111,
              "#46039f"
             ],
             [
              0.2222222222222222,
              "#7201a8"
             ],
             [
              0.3333333333333333,
              "#9c179e"
             ],
             [
              0.4444444444444444,
              "#bd3786"
             ],
             [
              0.5555555555555556,
              "#d8576b"
             ],
             [
              0.6666666666666666,
              "#ed7953"
             ],
             [
              0.7777777777777778,
              "#fb9f3a"
             ],
             [
              0.8888888888888888,
              "#fdca26"
             ],
             [
              1,
              "#f0f921"
             ]
            ],
            "type": "heatmapgl"
           }
          ],
          "histogram": [
           {
            "marker": {
             "pattern": {
              "fillmode": "overlay",
              "size": 10,
              "solidity": 0.2
             }
            },
            "type": "histogram"
           }
          ],
          "histogram2d": [
           {
            "colorbar": {
             "outlinewidth": 0,
             "ticks": ""
            },
            "colorscale": [
             [
              0,
              "#0d0887"
             ],
             [
              0.1111111111111111,
              "#46039f"
             ],
             [
              0.2222222222222222,
              "#7201a8"
             ],
             [
              0.3333333333333333,
              "#9c179e"
             ],
             [
              0.4444444444444444,
              "#bd3786"
             ],
             [
              0.5555555555555556,
              "#d8576b"
             ],
             [
              0.6666666666666666,
              "#ed7953"
             ],
             [
              0.7777777777777778,
              "#fb9f3a"
             ],
             [
              0.8888888888888888,
              "#fdca26"
             ],
             [
              1,
              "#f0f921"
             ]
            ],
            "type": "histogram2d"
           }
          ],
          "histogram2dcontour": [
           {
            "colorbar": {
             "outlinewidth": 0,
             "ticks": ""
            },
            "colorscale": [
             [
              0,
              "#0d0887"
             ],
             [
              0.1111111111111111,
              "#46039f"
             ],
             [
              0.2222222222222222,
              "#7201a8"
             ],
             [
              0.3333333333333333,
              "#9c179e"
             ],
             [
              0.4444444444444444,
              "#bd3786"
             ],
             [
              0.5555555555555556,
              "#d8576b"
             ],
             [
              0.6666666666666666,
              "#ed7953"
             ],
             [
              0.7777777777777778,
              "#fb9f3a"
             ],
             [
              0.8888888888888888,
              "#fdca26"
             ],
             [
              1,
              "#f0f921"
             ]
            ],
            "type": "histogram2dcontour"
           }
          ],
          "mesh3d": [
           {
            "colorbar": {
             "outlinewidth": 0,
             "ticks": ""
            },
            "type": "mesh3d"
           }
          ],
          "parcoords": [
           {
            "line": {
             "colorbar": {
              "outlinewidth": 0,
              "ticks": ""
             }
            },
            "type": "parcoords"
           }
          ],
          "pie": [
           {
            "automargin": true,
            "type": "pie"
           }
          ],
          "scatter": [
           {
            "fillpattern": {
             "fillmode": "overlay",
             "size": 10,
             "solidity": 0.2
            },
            "type": "scatter"
           }
          ],
          "scatter3d": [
           {
            "line": {
             "colorbar": {
              "outlinewidth": 0,
              "ticks": ""
             }
            },
            "marker": {
             "colorbar": {
              "outlinewidth": 0,
              "ticks": ""
             }
            },
            "type": "scatter3d"
           }
          ],
          "scattercarpet": [
           {
            "marker": {
             "colorbar": {
              "outlinewidth": 0,
              "ticks": ""
             }
            },
            "type": "scattercarpet"
           }
          ],
          "scattergeo": [
           {
            "marker": {
             "colorbar": {
              "outlinewidth": 0,
              "ticks": ""
             }
            },
            "type": "scattergeo"
           }
          ],
          "scattergl": [
           {
            "marker": {
             "colorbar": {
              "outlinewidth": 0,
              "ticks": ""
             }
            },
            "type": "scattergl"
           }
          ],
          "scattermapbox": [
           {
            "marker": {
             "colorbar": {
              "outlinewidth": 0,
              "ticks": ""
             }
            },
            "type": "scattermapbox"
           }
          ],
          "scatterpolar": [
           {
            "marker": {
             "colorbar": {
              "outlinewidth": 0,
              "ticks": ""
             }
            },
            "type": "scatterpolar"
           }
          ],
          "scatterpolargl": [
           {
            "marker": {
             "colorbar": {
              "outlinewidth": 0,
              "ticks": ""
             }
            },
            "type": "scatterpolargl"
           }
          ],
          "scatterternary": [
           {
            "marker": {
             "colorbar": {
              "outlinewidth": 0,
              "ticks": ""
             }
            },
            "type": "scatterternary"
           }
          ],
          "surface": [
           {
            "colorbar": {
             "outlinewidth": 0,
             "ticks": ""
            },
            "colorscale": [
             [
              0,
              "#0d0887"
             ],
             [
              0.1111111111111111,
              "#46039f"
             ],
             [
              0.2222222222222222,
              "#7201a8"
             ],
             [
              0.3333333333333333,
              "#9c179e"
             ],
             [
              0.4444444444444444,
              "#bd3786"
             ],
             [
              0.5555555555555556,
              "#d8576b"
             ],
             [
              0.6666666666666666,
              "#ed7953"
             ],
             [
              0.7777777777777778,
              "#fb9f3a"
             ],
             [
              0.8888888888888888,
              "#fdca26"
             ],
             [
              1,
              "#f0f921"
             ]
            ],
            "type": "surface"
           }
          ],
          "table": [
           {
            "cells": {
             "fill": {
              "color": "#EBF0F8"
             },
             "line": {
              "color": "white"
             }
            },
            "header": {
             "fill": {
              "color": "#C8D4E3"
             },
             "line": {
              "color": "white"
             }
            },
            "type": "table"
           }
          ]
         },
         "layout": {
          "annotationdefaults": {
           "arrowcolor": "#2a3f5f",
           "arrowhead": 0,
           "arrowwidth": 1
          },
          "autotypenumbers": "strict",
          "coloraxis": {
           "colorbar": {
            "outlinewidth": 0,
            "ticks": ""
           }
          },
          "colorscale": {
           "diverging": [
            [
             0,
             "#8e0152"
            ],
            [
             0.1,
             "#c51b7d"
            ],
            [
             0.2,
             "#de77ae"
            ],
            [
             0.3,
             "#f1b6da"
            ],
            [
             0.4,
             "#fde0ef"
            ],
            [
             0.5,
             "#f7f7f7"
            ],
            [
             0.6,
             "#e6f5d0"
            ],
            [
             0.7,
             "#b8e186"
            ],
            [
             0.8,
             "#7fbc41"
            ],
            [
             0.9,
             "#4d9221"
            ],
            [
             1,
             "#276419"
            ]
           ],
           "sequential": [
            [
             0,
             "#0d0887"
            ],
            [
             0.1111111111111111,
             "#46039f"
            ],
            [
             0.2222222222222222,
             "#7201a8"
            ],
            [
             0.3333333333333333,
             "#9c179e"
            ],
            [
             0.4444444444444444,
             "#bd3786"
            ],
            [
             0.5555555555555556,
             "#d8576b"
            ],
            [
             0.6666666666666666,
             "#ed7953"
            ],
            [
             0.7777777777777778,
             "#fb9f3a"
            ],
            [
             0.8888888888888888,
             "#fdca26"
            ],
            [
             1,
             "#f0f921"
            ]
           ],
           "sequentialminus": [
            [
             0,
             "#0d0887"
            ],
            [
             0.1111111111111111,
             "#46039f"
            ],
            [
             0.2222222222222222,
             "#7201a8"
            ],
            [
             0.3333333333333333,
             "#9c179e"
            ],
            [
             0.4444444444444444,
             "#bd3786"
            ],
            [
             0.5555555555555556,
             "#d8576b"
            ],
            [
             0.6666666666666666,
             "#ed7953"
            ],
            [
             0.7777777777777778,
             "#fb9f3a"
            ],
            [
             0.8888888888888888,
             "#fdca26"
            ],
            [
             1,
             "#f0f921"
            ]
           ]
          },
          "colorway": [
           "#636efa",
           "#EF553B",
           "#00cc96",
           "#ab63fa",
           "#FFA15A",
           "#19d3f3",
           "#FF6692",
           "#B6E880",
           "#FF97FF",
           "#FECB52"
          ],
          "font": {
           "color": "#2a3f5f"
          },
          "geo": {
           "bgcolor": "white",
           "lakecolor": "white",
           "landcolor": "#E5ECF6",
           "showlakes": true,
           "showland": true,
           "subunitcolor": "white"
          },
          "hoverlabel": {
           "align": "left"
          },
          "hovermode": "closest",
          "mapbox": {
           "style": "light"
          },
          "paper_bgcolor": "white",
          "plot_bgcolor": "#E5ECF6",
          "polar": {
           "angularaxis": {
            "gridcolor": "white",
            "linecolor": "white",
            "ticks": ""
           },
           "bgcolor": "#E5ECF6",
           "radialaxis": {
            "gridcolor": "white",
            "linecolor": "white",
            "ticks": ""
           }
          },
          "scene": {
           "xaxis": {
            "backgroundcolor": "#E5ECF6",
            "gridcolor": "white",
            "gridwidth": 2,
            "linecolor": "white",
            "showbackground": true,
            "ticks": "",
            "zerolinecolor": "white"
           },
           "yaxis": {
            "backgroundcolor": "#E5ECF6",
            "gridcolor": "white",
            "gridwidth": 2,
            "linecolor": "white",
            "showbackground": true,
            "ticks": "",
            "zerolinecolor": "white"
           },
           "zaxis": {
            "backgroundcolor": "#E5ECF6",
            "gridcolor": "white",
            "gridwidth": 2,
            "linecolor": "white",
            "showbackground": true,
            "ticks": "",
            "zerolinecolor": "white"
           }
          },
          "shapedefaults": {
           "line": {
            "color": "#2a3f5f"
           }
          },
          "ternary": {
           "aaxis": {
            "gridcolor": "white",
            "linecolor": "white",
            "ticks": ""
           },
           "baxis": {
            "gridcolor": "white",
            "linecolor": "white",
            "ticks": ""
           },
           "bgcolor": "#E5ECF6",
           "caxis": {
            "gridcolor": "white",
            "linecolor": "white",
            "ticks": ""
           }
          },
          "title": {
           "x": 0.05
          },
          "xaxis": {
           "automargin": true,
           "gridcolor": "white",
           "linecolor": "white",
           "ticks": "",
           "title": {
            "standoff": 15
           },
           "zerolinecolor": "white",
           "zerolinewidth": 2
          },
          "yaxis": {
           "automargin": true,
           "gridcolor": "white",
           "linecolor": "white",
           "ticks": "",
           "title": {
            "standoff": 15
           },
           "zerolinecolor": "white",
           "zerolinewidth": 2
          }
         }
        },
        "title": {
         "text": "Top 10 Artists by Most Number of Songs in the Top 100"
        },
        "width": 1100,
        "xaxis": {
         "title": {
          "text": "Artist"
         }
        },
        "yaxis": {
         "title": {
          "text": "Song Count"
         }
        }
       }
      }
     },
     "metadata": {},
     "output_type": "display_data"
    }
   ],
   "source": [
    "#PLOTTING TOP 10 ARTISTS BY NUMBER OF SONGS IN THE TOP 100\n",
    "fig2 = go.Figure()\n",
    "fig2.add_trace(go.Bar(y=count.head(10)['Number of Songs'],\n",
    "                      x=count.head(10)['Artist'],\n",
    "                      marker=dict(color='Turquoise')))\n",
    "fig2.update_layout(autosize=False, width=1100, height=500,\n",
    "                   title=\"Top 10 Artists by Most Number of Songs in the Top 100\",\n",
    "                   yaxis_title=\"Song Count\",\n",
    "                   xaxis_title=\"Artist\",)\n",
    "fig2.show()"
   ]
  },
  {
   "attachments": {},
   "cell_type": "markdown",
   "metadata": {},
   "source": [
    "**Insights:**\n",
    "- Justin Bieber was the only artist who had 6 songs in the top 100, followed by Ed Sheeran and Post Malone with 5 each, followed by Dua Lipa and Shawn Mendes with 4 each. All other artists had 3 songs or less in the top 100.\n",
    "- Despite not having the most songs, Ed Sheeran was the most streamed artist, with a total of 11.682 billion streams from his songs in the top 100 such as Shape of You, Perfect, etc.\n",
    "- There was a significant gap between the top 3 streamed artists and the rest: only Ed Sheeran, Justin Bieber and Post Malone had more than 10 billion total streams, while the rest of the artists have less than 8 billions."
   ]
  },
  {
   "attachments": {},
   "cell_type": "markdown",
   "metadata": {},
   "source": [
    "### 2. Determine the 'Pop Recipe': ideal tempo, key, loudness, and song duration"
   ]
  },
  {
   "cell_type": "code",
   "execution_count": 27,
   "metadata": {},
   "outputs": [],
   "source": [
    "#WE DEFINE THE TEMPO RANGES AND CALCULATE THE TOTAL SONG STREAMS FOR THAT RANGE:\n",
    "tempo_intervals = np.arange(70,195,10)\n",
    "tempo_data=df.groupby(pd.cut(df['tempo'], tempo_intervals))['Streams (Billions)'].sum().reset_index()"
   ]
  },
  {
   "cell_type": "code",
   "execution_count": 28,
   "metadata": {},
   "outputs": [
    {
     "data": {
      "image/png": "[encoded data removed]",
      "text/plain": [
       "<Figure size 1000x500 with 1 Axes>"
      ]
     },
     "metadata": {},
     "output_type": "display_data"
    }
   ],
   "source": [
    "#PLOT STREAMS AGAINST EACH TEMPO RANGES:\n",
    "plt.figure(figsize=(10,5))\n",
    "sns.set_style('whitegrid')\n",
    "sns.barplot(tempo_data,x='tempo',y='Streams (Billions)',color='RebeccaPurple')\n",
    "plt.title('Total Streams of Songs grouped by Tempo')\n",
    "plt.show()"
   ]
  },
  {
   "attachments": {},
   "cell_type": "markdown",
   "metadata": {},
   "source": [
    "**Insights:**\n",
    "Song tempo from 90 to 130 is the most appealing to the mainstream, although 140-150 and 170-180 bpm songs are also popular"
   ]
  },
  {
   "cell_type": "code",
   "execution_count": 29,
   "metadata": {},
   "outputs": [
    {
     "data": {
      "image/png": "[encoded data removed]",
      "text/plain": [
       "<Figure size 1200x500 with 1 Axes>"
      ]
     },
     "metadata": {},
     "output_type": "display_data"
    }
   ],
   "source": [
    "#FIND TOTAL STREAMS FOR EACH KEY+MODE COMBINATION AND PLOT:\n",
    "key_data = df.groupby(['key','mode'])['Streams (Billions)'].sum().reset_index()\n",
    "plt.figure(figsize=(12,5))\n",
    "sns.set_style('whitegrid')\n",
    "sns.barplot(key_data,x='key',y='Streams (Billions)',hue='mode',palette=['rebeccapurple', 'gold'])\n",
    "plt.title('Total Streams of Songs grouped by Key')\n",
    "plt.show()"
   ]
  },
  {
   "attachments": {},
   "cell_type": "markdown",
   "metadata": {},
   "source": [
    "**Insights:**\n",
    "- No song in the top 100 was written in D minor\n",
    "- C# major was significantly more popular than other keys. A possible explanation could be that it showcases best the vocal range of most artists."
   ]
  },
  {
   "cell_type": "code",
   "execution_count": 30,
   "metadata": {},
   "outputs": [
    {
     "data": {
      "image/png": "[encoded data removed]",
      "text/plain": [
       "<Figure size 1000x500 with 1 Axes>"
      ]
     },
     "metadata": {},
     "output_type": "display_data"
    }
   ],
   "source": [
    "#GROUP DATA BY LOUDNESS RANGE AND PLOT STREAMS FOR EACH RANGE:\n",
    "loud_int = np.arange(-13,-1,1)\n",
    "loud_data = df.groupby(pd.cut(df['loudness'], loud_int))['Streams (Billions)'].sum().reset_index()\n",
    "plt.figure(figsize=(10,5))\n",
    "sns.set_style('whitegrid')\n",
    "sns.barplot(loud_data,x='loudness',y='Streams (Billions)', palette=['LightGreen'])\n",
    "plt.title('Total Streams of Songs grouped by Loudness (dB)')\n",
    "plt.show()"
   ]
  },
  {
   "attachments": {},
   "cell_type": "markdown",
   "metadata": {},
   "source": [
    "**Insights:**\n",
    "Most appealing to the mainstream are songs that are between -7 and -5 dB, which account for nearly 90 billion streams - almost half the grand total of all 100 songs. This can be said to be a safe loudness interval if/when a producer is not sure how loud to master their new track. We will further investigate loudness in the next section."
   ]
  },
  {
   "cell_type": "code",
   "execution_count": 31,
   "metadata": {},
   "outputs": [
    {
     "data": {
      "image/png": "[encoded data removed]",
      "text/plain": [
       "<Figure size 1000x500 with 1 Axes>"
      ]
     },
     "metadata": {},
     "output_type": "display_data"
    }
   ],
   "source": [
    "#GROUP SONGS BY DURATION AND PLOT STREAMS:\n",
    "dur_int = np.arange(1.5,7.6,0.5)\n",
    "dur_data = df.groupby(pd.cut(df['duration'],dur_int))['Streams (Billions)'].sum().reset_index()\n",
    "plt.figure(figsize=(10,5))\n",
    "sns.set_style('whitegrid')\n",
    "sns.barplot(dur_data,x='duration',y='Streams (Billions)', palette=['Pink'])\n",
    "plt.title('Total Streams of Songs grouped by Duration')\n",
    "plt.show()"
   ]
  },
  {
   "attachments": {},
   "cell_type": "markdown",
   "metadata": {},
   "source": [
    "**Insights:** \n",
    "The majority of the songs in the chart are between 2.5 and 4.5 minutes long. This result is to be expected because songs shorter than 2.5 minutes are often not fully developed in terms of musical structure, while songs longer than 4.5 minutes are often too long for radio time/human attention span, where people will start to lose interest. We can gain more insights about song duration in the next section."
   ]
  },
  {
   "attachments": {},
   "cell_type": "markdown",
   "metadata": {},
   "source": [
    "### 3. Investigate Correlations:"
   ]
  },
  {
   "cell_type": "code",
   "execution_count": 32,
   "metadata": {},
   "outputs": [
    {
     "data": {
      "image/png": "[encoded data removed]",
      "text/plain": [
       "<Figure size 800x600 with 2 Axes>"
      ]
     },
     "metadata": {},
     "output_type": "display_data"
    }
   ],
   "source": [
    "#PLOT HEAT MAP OF CORRELATION BETWEEN ALL VARIABLES:\n",
    "plt.figure(figsize=(8,6))\n",
    "sns.heatmap(df.corr(numeric_only=True), cmap='RdBu')\n",
    "plt.show()"
   ]
  },
  {
   "attachments": {},
   "cell_type": "markdown",
   "metadata": {},
   "source": [
    "From the heat map above, we can see 'Streams (Billions)' had no significant correlations with any other variable (apart from the obvious correlation with rank and itself). However, there are some noticeable correlations between some of the other song features:\n",
    "- energy with loudness and acousticness\n",
    "- Song Age (Days) and duration"
   ]
  },
  {
   "attachments": {},
   "cell_type": "markdown",
   "metadata": {},
   "source": [
    "**First, we inspect Song Age (Days) to see trends over time:**"
   ]
  },
  {
   "cell_type": "code",
   "execution_count": 33,
   "metadata": {},
   "outputs": [
    {
     "data": {
      "image/png": "[encoded data removed]",
      "text/plain": [
       "<Figure size 1000x600 with 1 Axes>"
      ]
     },
     "metadata": {},
     "output_type": "display_data"
    }
   ],
   "source": [
    "plt.figure(figsize=(10,6))\n",
    "sns.set_style(\"darkgrid\")\n",
    "sns.scatterplot(df,y='duration',x='Song Age (Days)',hue='mode',palette=['violet','orange'])\n",
    "plt.legend(['mode: Major','mode: Minor'],loc='upper right')\n",
    "plt.title('Song duration vs Song Age')\n",
    "plt.show()"
   ]
  },
  {
   "attachments": {},
   "cell_type": "markdown",
   "metadata": {},
   "source": [
    "**Insights:** \n",
    "- Song duration decreased over time, i.e., recent hits tend to be shorter in duration compared to older hits. Furthermore, if we color-code the datapoints with the mode of the songs, we can see that songs in the chart which were released more than 4000 days ago (~11 years) were almost exclusively songs in a major key.\n",
    "- The majority of top streamed songs were released less than a decade ago."
   ]
  },
  {
   "cell_type": "code",
   "execution_count": 34,
   "metadata": {},
   "outputs": [
    {
     "data": {
      "image/png": "[encoded data removed]",
      "text/plain": [
       "<Figure size 1500x500 with 3 Axes>"
      ]
     },
     "metadata": {},
     "output_type": "display_data"
    }
   ],
   "source": [
    "#PLOTTING ENERGY VS LOUDNESS VS ACOUSTICNESS\n",
    "fig, (ax1,ax2,ax3) = plt.subplots(1,3,figsize=(15,5))\n",
    "sns.set_style(\"dark\")\n",
    "sns.regplot(df,x='acousticness',y='energy',color='mediumspringgreen',ax=ax1)\n",
    "sns.regplot(df,x='loudness',y='energy',color='mediumspringgreen',ax=ax2)\n",
    "sns.regplot(df,y='loudness',x='acousticness',color='mediumspringgreen',ax=ax3)\n",
    "plt.suptitle('Correlations between energy, loudness, acousticness')\n",
    "plt.show(fig1)"
   ]
  },
  {
   "attachments": {},
   "cell_type": "markdown",
   "metadata": {},
   "source": [
    "We find that loudness and energy are strongly and positively correlated, and songs that are predicted to be acoustic tend to be more quiet and less energetic."
   ]
  },
  {
   "attachments": {},
   "cell_type": "markdown",
   "metadata": {},
   "source": [
    "# *III. PREDICTIVE ANALYSIS*"
   ]
  },
  {
   "attachments": {},
   "cell_type": "markdown",
   "metadata": {},
   "source": [
    "In this section we try to develop a model that aims to predict the perceived energy level of a song based on its audio feature, which could be helpful as part of a recommender or playlist-building system. We will tune and assess the performance of the following models:\n",
    "- Linear Regression\n",
    "- Ridge Regression\n",
    "- Support Vector Regression (SVR)"
   ]
  },
  {
   "cell_type": "code",
   "execution_count": 35,
   "metadata": {},
   "outputs": [],
   "source": [
    "#IMPORTS:\n",
    "from sklearn.model_selection import train_test_split, GridSearchCV\n",
    "from sklearn.preprocessing import StandardScaler,PolynomialFeatures\n",
    "from sklearn.linear_model import LinearRegression, Ridge\n",
    "from sklearn.pipeline import Pipeline\n",
    "from sklearn.svm import SVR\n",
    "import sklearn.metrics"
   ]
  },
  {
   "cell_type": "code",
   "execution_count": 36,
   "metadata": {},
   "outputs": [],
   "source": [
    "#Create a dataframe to record each model's performance:\n",
    "model_scores = pd.DataFrame({'Model':[],'Score Type':[],'R-squared':[]})"
   ]
  },
  {
   "cell_type": "code",
   "execution_count": 37,
   "metadata": {},
   "outputs": [],
   "source": [
    "#PREPARE THE DATA:\n",
    "#We use 'acousticness' and 'loudness' as independent variables since only these have significant correlations with 'energy'. Adding more features will result in the introduction of noise in the data\n",
    "x=df[['acousticness','loudness']]\n",
    "y=df['energy']\n",
    "x_train, x_test, y_train, y_test = train_test_split(x,y, test_size=0.2, random_state=0)"
   ]
  },
  {
   "attachments": {},
   "cell_type": "markdown",
   "metadata": {},
   "source": [
    "### 1. Linear Regression (LR):"
   ]
  },
  {
   "cell_type": "code",
   "execution_count": 38,
   "metadata": {},
   "outputs": [
    {
     "name": "stdout",
     "output_type": "stream",
     "text": [
      "Best Parameters: {'model__fit_intercept': True, 'poly__degree': 1}\n",
      "Best Validation Score: 0.6230870659143342\n",
      "Test Score: 0.519179767213368\n",
      "Mean Squared Error: 0.00923835854565357\n",
      "\n"
     ]
    }
   ],
   "source": [
    "#LINEAR REGRESSION MODEL\n",
    "#Building the model:\n",
    "pipe = Pipeline([('scaler',StandardScaler()),('poly',PolynomialFeatures()),('model',LinearRegression())])\n",
    "params = {'model__fit_intercept':[True,False],\n",
    "          'poly__degree':[1,2,3]\n",
    "          }\n",
    "grid1 = GridSearchCV(pipe,params,cv=5)\n",
    "\n",
    "#Fit the data:\n",
    "grid1.fit(x_train,y_train)\n",
    "\n",
    "#Evaluate the best model:\n",
    "y_pred = grid1.predict(x_test)\n",
    "rsq = sklearn.metrics.r2_score(y_test,y_pred)\n",
    "mse = sklearn.metrics.mean_squared_error(y_test,y_pred)\n",
    "print('Best Parameters: {}\\nBest Validation Score: {}\\nTest Score: {}\\nMean Squared Error: {}\\n'.format(grid1.best_params_,grid1.best_score_,rsq,mse))\n",
    "\n",
    "#Record the perfomance:\n",
    "model_scores.loc[0] = ['LR','Val',grid1.best_score_]\n",
    "model_scores.loc[1] = ['LR','Test',rsq]"
   ]
  },
  {
   "attachments": {},
   "cell_type": "markdown",
   "metadata": {},
   "source": [
    "### 2. Ridge Regression (RR):\n",
    "\n",
    "Since there might be colinearity between acousticness and loudness as investigated in the previous section, we try using Ridge to see if any improvements in prediction precision could be made"
   ]
  },
  {
   "cell_type": "code",
   "execution_count": 39,
   "metadata": {},
   "outputs": [
    {
     "name": "stdout",
     "output_type": "stream",
     "text": [
      "Best Parameters: {'model__alpha': 6, 'model__fit_intercept': True, 'poly__degree': 1}\n",
      "Best Validation Score: 0.6257495852797469\n",
      "Test Score: 0.5397184365319615\n",
      "Mean Squared Error: 0.008843733739380116\n",
      "\n"
     ]
    }
   ],
   "source": [
    "#RIDGE REGRESSION MODEL:\n",
    "#Build the model:\n",
    "pipe = Pipeline([('scaler',StandardScaler()),('poly',PolynomialFeatures()),('model',Ridge())])\n",
    "params = {'poly__degree':[1,2,3],\n",
    "          'model__alpha':[3,4,5,6,7,8],#alpha value has been narrowed down from previous runs to this range\n",
    "          'model__fit_intercept':[True,False]}\n",
    "grid2 = GridSearchCV(pipe,params,cv=5)\n",
    "\n",
    "#Fit the data:\n",
    "grid2.fit(x_train,y_train)\n",
    "\n",
    "#Evaluate the best model:\n",
    "y_pred = grid2.predict(x_test)\n",
    "rsq = sklearn.metrics.r2_score(y_test,y_pred)\n",
    "mse = sklearn.metrics.mean_squared_error(y_test,y_pred)\n",
    "print('Best Parameters: {}\\nBest Validation Score: {}\\nTest Score: {}\\nMean Squared Error: {}\\n'.format(grid2.best_params_,grid2.best_score_,rsq,mse))\n",
    "\n",
    "#Record the perfomance:\n",
    "model_scores.loc[2] = ['RR','Val',grid2.best_score_]\n",
    "model_scores.loc[3] = ['RR','Test',rsq]"
   ]
  },
  {
   "attachments": {},
   "cell_type": "markdown",
   "metadata": {},
   "source": [
    "As expected, both validation and test scores were slightly improved compared to Linear Regression."
   ]
  },
  {
   "attachments": {},
   "cell_type": "markdown",
   "metadata": {},
   "source": [
    "### 3. Support Vector Regression (SVR):"
   ]
  },
  {
   "cell_type": "code",
   "execution_count": 40,
   "metadata": {},
   "outputs": [
    {
     "name": "stdout",
     "output_type": "stream",
     "text": [
      "Best Parameters: {'model__C': 0.007, 'model__epsilon': 0.001, 'model__kernel': 'linear', 'poly__degree': 1}\n",
      "Best Validation Score: 0.6391587802560936\n",
      "Test Score: 0.5565978758550514\n",
      "Mean Squared Error: 0.008519416454284697\n",
      "\n"
     ]
    }
   ],
   "source": [
    "#SVR MODEL:\n",
    "#Build the model:\n",
    "pipe = Pipeline([('scaler',StandardScaler()),('poly',PolynomialFeatures()),('model',SVR())])\n",
    "params = {'poly__degree':[1,2,3],\n",
    "          'model__kernel':['linear','poly','rbf',],\n",
    "          'model__C':[0.005,0.006,0.007,0.008,0.009,0.010],#C value has been narrowed down from previous runs to this range\n",
    "          'model__epsilon':[0.008,0.009,0.001,0.0011,0.0012],#epsilon value has been narrowed down from previous runs to this range\n",
    "          }\n",
    "grid3 = GridSearchCV(pipe,params,cv=5)\n",
    "\n",
    "#Fit the data:\n",
    "grid3.fit(x_train,y_train)\n",
    "\n",
    "#Evaluate the best model:\n",
    "y_pred = grid3.predict(x_test)\n",
    "rsq = sklearn.metrics.r2_score(y_test,y_pred)\n",
    "mse = sklearn.metrics.mean_squared_error(y_test,y_pred)\n",
    "print('Best Parameters: {}\\nBest Validation Score: {}\\nTest Score: {}\\nMean Squared Error: {}\\n'.format(grid3.best_params_,grid3.best_score_,rsq,mse))\n",
    "\n",
    "#Record the perfomance:\n",
    "model_scores.loc[4] = ['SVR','Val',grid3.best_score_]\n",
    "model_scores.loc[5] = ['SVR','Test',rsq]"
   ]
  },
  {
   "attachments": {},
   "cell_type": "markdown",
   "metadata": {},
   "source": [
    "### 4. Models Comparison:"
   ]
  },
  {
   "attachments": {},
   "cell_type": "markdown",
   "metadata": {},
   "source": [
    "First we inspect the residuals against predicted values plots for each model to see if there are any irregularities or patterns in the prediction:"
   ]
  },
  {
   "cell_type": "code",
   "execution_count": 41,
   "metadata": {},
   "outputs": [
    {
     "data": {
      "image/png": "[encoded data removed]",
      "text/plain": [
       "<Figure size 1800x600 with 3 Axes>"
      ]
     },
     "metadata": {},
     "output_type": "display_data"
    }
   ],
   "source": [
    "#PLOT RESIDUALS FOR EACH MODEL:\n",
    "fig, (ax1,ax2,ax3) = plt.subplots(1,3,figsize=(18,6))\n",
    "\n",
    "#plot:\n",
    "sns.scatterplot(x=grid1.predict(x),y=(grid1.predict(x)-y),color='teal',ax=ax1)\n",
    "sns.lineplot(y=0,x=[0.2,0.85],color='gray', ax=ax1)\n",
    "sns.scatterplot(x=grid2.predict(x),y=(grid2.predict(x)-y),color='teal',ax=ax2)\n",
    "sns.lineplot(y=0,x=[0.2,0.85],color='gray', ax=ax2)\n",
    "sns.scatterplot(x=grid3.predict(x),y=(grid3.predict(x)-y),color='teal',ax=ax3)\n",
    "sns.lineplot(y=0,x=[0.2,0.85],color='gray', ax=ax3)\n",
    "#set titles:\n",
    "ax1.set_title('LR')\n",
    "ax1.set_xlabel('Predicted')\n",
    "ax1.set_ylabel('Residuals')\n",
    "ax2.set_title('RR')\n",
    "ax2.set_xlabel('Predicted')\n",
    "ax2.set_ylabel('Residuals')\n",
    "ax3.set_title('SVR')\n",
    "ax3.set_xlabel('Predicted')\n",
    "ax3.set_ylabel('Residuals')\n",
    "plt.suptitle('Residual Plots',)\n",
    "#show plots\n",
    "plt.show()"
   ]
  },
  {
   "attachments": {},
   "cell_type": "markdown",
   "metadata": {},
   "source": [
    "The residuals for all three models appear to be distributed randomly and symmetrically around 0 for all ranges of predictions, which shows that there are no fundamental fault with the model or no patterns in the data uncaptured.<br><br>\n",
    "Next we inspect how well each model fit the data:"
   ]
  },
  {
   "cell_type": "code",
   "execution_count": 42,
   "metadata": {},
   "outputs": [
    {
     "data": {
      "image/png": "[encoded data removed]",
      "text/plain": [
       "<Figure size 600x600 with 1 Axes>"
      ]
     },
     "metadata": {},
     "output_type": "display_data"
    }
   ],
   "source": [
    "#VISUALISE MODEL SCORE:\n",
    "plt.figure(figsize=(6,6))\n",
    "sns.set_style('darkgrid')\n",
    "sns.barplot(model_scores,x='Model',y='R-squared',hue='Score Type',palette=['gold','lightskyblue'])\n",
    "plt.title('R-squared scores for each model')\n",
    "plt.legend(loc = 'lower right')\n",
    "plt.show()"
   ]
  },
  {
   "attachments": {},
   "cell_type": "markdown",
   "metadata": {},
   "source": [
    "It is evident from the visualisation above that the third model (SVR) fits the data the best. It was the most precise both in cross validation and in predicting unseen test data compared to the other two models. Approximately 64% of the variation in energy measurement can be predicted using SVR tuned with the following parameters: {'model__C': 0.007, 'model__epsilon': 0.001, 'model__kernel': 'linear', 'poly__degree': 1}\n",
    "<br><br> Therefore, this will be our selected model to predict song energy."
   ]
  },
  {
   "attachments": {},
   "cell_type": "markdown",
   "metadata": {},
   "source": [
    "Now we can define a function which uses our selected model to predict the energy measurement of a few songs:\n"
   ]
  },
  {
   "cell_type": "code",
   "execution_count": 50,
   "metadata": {},
   "outputs": [],
   "source": [
    "def predict_energy(song):\n",
    "    pred = grid3.predict(df[df['Song']==song][['acousticness','loudness']])[0]\n",
    "    true = float(df.loc[df['Song']==song,'energy'])\n",
    "    print(f'Predicted: {pred}\\nTrue: {true}')"
   ]
  },
  {
   "cell_type": "code",
   "execution_count": 51,
   "metadata": {},
   "outputs": [
    {
     "name": "stdout",
     "output_type": "stream",
     "text": [
      "Predicted: 0.3069193932108689\n",
      "True: 0.296\n"
     ]
    }
   ],
   "source": [
    "predict_energy('Lovely')"
   ]
  },
  {
   "cell_type": "code",
   "execution_count": 52,
   "metadata": {},
   "outputs": [
    {
     "name": "stdout",
     "output_type": "stream",
     "text": [
      "Predicted: 0.6509814795030868\n",
      "True: 0.661\n"
     ]
    }
   ],
   "source": [
    "predict_energy('Yellow')"
   ]
  },
  {
   "attachments": {},
   "cell_type": "markdown",
   "metadata": {},
   "source": [
    "This concludes our predictive analysis section. Our selected model can be used to predict the energy level of new most streamed pop songs, which could be helpful in recommending new songs to Spotify listeners based on mood (For example, in an upbeat playlist, we will only include songs with predicted energy level of 0.5 or above, etc.)."
   ]
  },
  {
   "attachments": {},
   "cell_type": "markdown",
   "metadata": {},
   "source": [
    "# Conclusion\n",
    "The key takeaways from this project were:\n",
    "- For new songs to have a high chance of being popular, they should be between 3-3.5 minutes, and have a loudness level of around -6 dB.\n",
    "- A song's perceived energy level depends mainly on 2 factors: its loudness and the amount of acoustic elements present within the song. The louder and less acoustic a song is, the more energetic it feels.\n",
    "- A support vector regression model can be built to predict energy with up to 64% precision."
   ]
  }
 ],
 "metadata": {
  "kernelspec": {
   "display_name": "Python 3",
   "language": "python",
   "name": "python3"
  },
  "language_info": {
   "codemirror_mode": {
    "name": "ipython",
    "version": 3
   },
   "file_extension": ".py",
   "mimetype": "text/x-python",
   "name": "python",
   "nbconvert_exporter": "python",
   "pygments_lexer": "ipython3",
   "version": "3.10.9"
  },
  "orig_nbformat": 4,
  "vscode": {
   "interpreter": {
    "hash": "75dabb06c3e416a2b8c25425cdc27e002ef3d64fa6beffb96dfc237f8c084fea"
   }
  }
 },
 "nbformat": 4,
 "nbformat_minor": 2
}
